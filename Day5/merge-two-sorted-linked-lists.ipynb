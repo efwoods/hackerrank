{
 "cells": [
  {
   "cell_type": "markdown",
   "metadata": {},
   "source": [
    "# [Merge Two Sorted Linked Lists](https://www.hackerrank.com/challenges/one-week-preparation-kit-merge-two-sorted-linked-lists/problem?isFullScreen=true&h_l=interview&playlist_slugs%5B%5D=preparation-kits&playlist_slugs%5B%5D=one-week-preparation-kit&playlist_slugs%5B%5D=one-week-day-five)"
   ]
  },
  {
   "cell_type": "code",
   "execution_count": 95,
   "metadata": {},
   "outputs": [],
   "source": [
    "class SinglyLinkedListNode:\n",
    "    def __init__(self, node_data):\n",
    "        self.data = node_data\n",
    "        self.next = None"
   ]
  },
  {
   "cell_type": "code",
   "execution_count": 243,
   "metadata": {},
   "outputs": [],
   "source": [
    "headA = SinglyLinkedListNode(1)"
   ]
  },
  {
   "cell_type": "code",
   "execution_count": 244,
   "metadata": {},
   "outputs": [
    {
     "data": {
      "text/plain": [
       "1"
      ]
     },
     "execution_count": 244,
     "metadata": {},
     "output_type": "execute_result"
    }
   ],
   "source": [
    "headA.data"
   ]
  },
  {
   "cell_type": "code",
   "execution_count": 245,
   "metadata": {},
   "outputs": [],
   "source": [
    "headA.next"
   ]
  },
  {
   "cell_type": "code",
   "execution_count": 247,
   "metadata": {},
   "outputs": [],
   "source": [
    "headA.next = SinglyLinkedListNode(3)"
   ]
  },
  {
   "cell_type": "code",
   "execution_count": 248,
   "metadata": {},
   "outputs": [
    {
     "data": {
      "text/plain": [
       "3"
      ]
     },
     "execution_count": 248,
     "metadata": {},
     "output_type": "execute_result"
    }
   ],
   "source": [
    "headA.next.data"
   ]
  },
  {
   "cell_type": "code",
   "execution_count": 249,
   "metadata": {},
   "outputs": [],
   "source": [
    "headA.next.next = SinglyLinkedListNode(7)"
   ]
  },
  {
   "cell_type": "code",
   "execution_count": 253,
   "metadata": {},
   "outputs": [
    {
     "data": {
      "text/plain": [
       "7"
      ]
     },
     "execution_count": 253,
     "metadata": {},
     "output_type": "execute_result"
    }
   ],
   "source": [
    "headA.next.next.data"
   ]
  },
  {
   "cell_type": "code",
   "execution_count": 251,
   "metadata": {},
   "outputs": [],
   "source": [
    "headA.next.next.next"
   ]
  },
  {
   "cell_type": "code",
   "execution_count": null,
   "metadata": {},
   "outputs": [],
   "source": [
    "headA.data"
   ]
  },
  {
   "cell_type": "code",
   "execution_count": 275,
   "metadata": {},
   "outputs": [],
   "source": [
    "headB = SinglyLinkedListNode(1)"
   ]
  },
  {
   "cell_type": "code",
   "execution_count": 276,
   "metadata": {},
   "outputs": [],
   "source": [
    "headB.next = SinglyLinkedListNode(2)"
   ]
  },
  {
   "cell_type": "code",
   "execution_count": 282,
   "metadata": {},
   "outputs": [
    {
     "name": "stdout",
     "output_type": "stream",
     "text": [
      "1\n"
     ]
    }
   ],
   "source": [
    "temp = traverse_list(headB, 2)"
   ]
  },
  {
   "cell_type": "code",
   "execution_count": 284,
   "metadata": {},
   "outputs": [],
   "source": [
    "def compare_nodes (node, comparison_node):\n",
    "        if node.data == comparison_node.data:\n",
    "            print(\"node.data == comparison_node.data: {} == {}\".format(node.data, comparison_node.data))\n",
    "            print(stop_value)\n",
    "            try:\n",
    "                return traverse_list(node.next, comparison_node)\n",
    "            except AttributeError:\n",
    "                exit\n",
    "        elif node.data < comparison_node.data:\n",
    "            print(\"node.data < comparison_node.data: {} < {}\".format(node.data, comparison_node.data))\n",
    "            return comparison_node\n",
    "        return node"
   ]
  },
  {
   "cell_type": "code",
   "execution_count": null,
   "metadata": {},
   "outputs": [],
   "source": [
    "# Algorithm\n",
    "# main list 1 -> 3 -> 7 -> NULL\n",
    "# compar list 1 -> 2 -> NULL\n",
    "# if main list == comparison list \n",
    "# save the next node of the main list: 3 -> 7 -> NULL\n",
    "# save the next node of the comparison list: 2 -> NULL\n",
    "# comparison list node.next = None: 1 -> NULL\n",
    "# main list node.next = comparison list: 1 -> 1-> Null\n",
    "# main list node.next.next = saved next node of the main list: 1 -> 1 -> 3 -> 7 -> NULL\n",
    "# comparison list = saved next node of the comparison list: 2 -> NULL\n",
    "# compare main list and comparison list (comparison list should be new or none)\n",
    "\n",
    "# main list: 1 -> 1 -> 3 -> 7 -> NULL\n",
    "# compare list: 2 -> NULL\n",
    "\n",
    "# check to see if comparison list.next is null; if yes then set a condition, continue and return the main list at the end; else continue\n",
    "# if main list < comparison list\n",
    "# traverse(main list) until main list > comparison list or main list is null\n",
    "# if main list is null; traverse the main list and return the last node; node.next from this return = compare list\n",
    "# state: main list is not null & the main list is > comparison list (3); traverse the main list with a stop value until the stop value is reached. this will return the penultimate node ( the second 1->); this is stored as a temp, but references the main list because it is not copied.; return the ulitimate node (3 ->...)\n",
    "# set the temp main list next = comparison list: 1 -> 1 -> 2 -> NULL\n",
    "# set the temp main list next.next = ultimate node: 1 -> 1 -> 2 -> 3 -> 7 -> NULL\n",
    "# if the condition was set, then return the main list. Done.\n",
    "\n",
    "\n",
    "\n"
   ]
  },
  {
   "cell_type": "code",
   "execution_count": null,
   "metadata": {},
   "outputs": [],
   "source": [
    "# Example test case for the ALgorithm\n",
    "# main list 2 -> 3 -> 7 -> NULL\n",
    "# compar list 1 -> 2 -> 3-> NULL\n",
    "\n",
    "# check to see if comparison list.next is null; if yes then set a condition, continue and return the main list; else continue\n",
    "\n",
    "# if main list == comparison list \n",
    "# save the next node of the main list: 3 -> 7 -> NULL\n",
    "# save the next node of the comparison list: 2 -> NULL\n",
    "# comparison list node.next = None: 1 -> NULL\n",
    "# main list node.next = comparison list: 1 -> 1-> Null\n",
    "# main list node.next.next = saved next node of the main list: 1 -> 1 -> 3 -> 7 -> NULL\n",
    "# comparison list = saved next node of the comparison list: 2 -> NULL\n",
    "# compare main list and comparison list (comparison list should be new or none)\n",
    "\n",
    "# if main list < comparison list\n",
    "# check to see if comparison list.next is null; if yes then set a condition, continue and return the main list; else continue\n",
    "# traverse(main list) until main list > comparison list or main list is null\n",
    "# if main list is null; traverse the main list and return the last node; node.next from this return = compare list\n",
    "# state: main list is not null & the main list is > comparison list; traverse the main list with a stop value until the stop value is reached. this will return the penultimate node ( the second 1->); this is stored as a temp, but references the main list because it is not copied.; return the ulitimate node (3 ->...)\n",
    "# set the temp main list next = comparison list: 1 -> 1 -> 2 -> NULL\n",
    "# set the temp main list next.next = ultimate node: 1 -> 1 -> 2 -> 3 -> 7 -> NULL\n",
    "# if the condition was set, then return the main list. Done.\n",
    "\n",
    "# if main list > comparison list\n",
    "# travserse( comparison list ) until the comparison > main list or the comparison list is null\n",
    "# if compare list is null; traverse the compare list and return the last node; node.next from this return = main list\n",
    "# state: comparison list is not null & the comparison list is > main list; traverse the comparison list with a stop value until the stop value is reached. this will return the penultimate node ( the 2->); this is stored as a temp, but references the comparison list because it is not copied.; return the ulitimate node (3 ->...)\n",
    "# set the temp comparison list next = main list: 1 -> 2 -> 2 -> 3 -> 7 -> Null\n",
    "# set the temp comparison list next.next = ultimate node: 3 -> NULL\n",
    "# if the condition was set then return the comparison list\n",
    "\n",
    "# if the condition was not set then continue the loop "
   ]
  },
  {
   "cell_type": "code",
   "execution_count": 278,
   "metadata": {},
   "outputs": [
    {
     "data": {
      "text/plain": [
       "1"
      ]
     },
     "execution_count": 278,
     "metadata": {},
     "output_type": "execute_result"
    }
   ],
   "source": [
    "def traverse_list (node, stop_value):\n",
    "        if node.data != stop_value:\n",
    "            print(node.data)\n",
    "            # print(stop_value)\n",
    "            try:\n",
    "                return traverse_list(node.next, stop_value)\n",
    "            except AttributeError:\n",
    "                exit\n",
    "        return node\n",
    "temp_node = traverse_list(headA, 1)\n",
    "temp_node.data"
   ]
  },
  {
   "cell_type": "code",
   "execution_count": null,
   "metadata": {},
   "outputs": [],
   "source": []
  },
  {
   "cell_type": "code",
   "execution_count": null,
   "metadata": {},
   "outputs": [],
   "source": []
  },
  {
   "cell_type": "code",
   "execution_count": null,
   "metadata": {},
   "outputs": [],
   "source": []
  },
  {
   "cell_type": "code",
   "execution_count": null,
   "metadata": {},
   "outputs": [],
   "source": []
  },
  {
   "cell_type": "code",
   "execution_count": null,
   "metadata": {},
   "outputs": [],
   "source": []
  },
  {
   "cell_type": "code",
   "execution_count": null,
   "metadata": {},
   "outputs": [],
   "source": []
  },
  {
   "cell_type": "code",
   "execution_count": null,
   "metadata": {},
   "outputs": [],
   "source": []
  },
  {
   "cell_type": "code",
   "execution_count": 175,
   "metadata": {},
   "outputs": [],
   "source": [
    "headA.next.next"
   ]
  },
  {
   "cell_type": "code",
   "execution_count": 163,
   "metadata": {},
   "outputs": [],
   "source": [
    "headA.next.next = SinglyLinkedListNode(7)"
   ]
  },
  {
   "cell_type": "code",
   "execution_count": 164,
   "metadata": {},
   "outputs": [
    {
     "data": {
      "text/plain": [
       "7"
      ]
     },
     "execution_count": 164,
     "metadata": {},
     "output_type": "execute_result"
    }
   ],
   "source": [
    "headA.next.next.data"
   ]
  },
  {
   "cell_type": "code",
   "execution_count": 131,
   "metadata": {},
   "outputs": [],
   "source": [
    "comparison_node = SinglyLinkedListNode(headA.data)"
   ]
  },
  {
   "cell_type": "code",
   "execution_count": 132,
   "metadata": {},
   "outputs": [],
   "source": [
    "comparison_node.next = headA.next"
   ]
  },
  {
   "cell_type": "code",
   "execution_count": 133,
   "metadata": {},
   "outputs": [
    {
     "data": {
      "text/plain": [
       "<__main__.SinglyLinkedListNode at 0x111f5c460>"
      ]
     },
     "execution_count": 133,
     "metadata": {},
     "output_type": "execute_result"
    }
   ],
   "source": [
    "comparison_node.next"
   ]
  },
  {
   "cell_type": "code",
   "execution_count": 134,
   "metadata": {},
   "outputs": [
    {
     "data": {
      "text/plain": [
       "3"
      ]
     },
     "execution_count": 134,
     "metadata": {},
     "output_type": "execute_result"
    }
   ],
   "source": [
    "headA.next.data"
   ]
  },
  {
   "cell_type": "code",
   "execution_count": 135,
   "metadata": {},
   "outputs": [
    {
     "data": {
      "text/plain": [
       "1"
      ]
     },
     "execution_count": 135,
     "metadata": {},
     "output_type": "execute_result"
    }
   ],
   "source": [
    "comparison_node.data"
   ]
  },
  {
   "cell_type": "code",
   "execution_count": 138,
   "metadata": {},
   "outputs": [],
   "source": [
    "comparison_node = headA.next"
   ]
  },
  {
   "cell_type": "code",
   "execution_count": 139,
   "metadata": {},
   "outputs": [
    {
     "data": {
      "text/plain": [
       "3"
      ]
     },
     "execution_count": 139,
     "metadata": {},
     "output_type": "execute_result"
    }
   ],
   "source": [
    "comparison_node.data"
   ]
  },
  {
   "cell_type": "code",
   "execution_count": 140,
   "metadata": {},
   "outputs": [],
   "source": [
    "headA.next = headA.next.next"
   ]
  },
  {
   "cell_type": "code",
   "execution_count": 141,
   "metadata": {},
   "outputs": [
    {
     "data": {
      "text/plain": [
       "3"
      ]
     },
     "execution_count": 141,
     "metadata": {},
     "output_type": "execute_result"
    }
   ],
   "source": [
    "comparison_node.data"
   ]
  },
  {
   "cell_type": "code",
   "execution_count": 142,
   "metadata": {},
   "outputs": [],
   "source": [
    "comparison_node = headA.next"
   ]
  },
  {
   "cell_type": "code",
   "execution_count": 143,
   "metadata": {},
   "outputs": [],
   "source": [
    "headA.next = headA.next.next"
   ]
  },
  {
   "cell_type": "code",
   "execution_count": 144,
   "metadata": {},
   "outputs": [
    {
     "data": {
      "text/plain": [
       "7"
      ]
     },
     "execution_count": 144,
     "metadata": {},
     "output_type": "execute_result"
    }
   ],
   "source": [
    "comparison_node.data"
   ]
  },
  {
   "cell_type": "code",
   "execution_count": 145,
   "metadata": {},
   "outputs": [],
   "source": [
    "comparison_node = headA.next"
   ]
  },
  {
   "cell_type": "code",
   "execution_count": 146,
   "metadata": {},
   "outputs": [
    {
     "ename": "AttributeError",
     "evalue": "'NoneType' object has no attribute 'next'",
     "output_type": "error",
     "traceback": [
      "\u001b[0;31m---------------------------------------------------------------------------\u001b[0m",
      "\u001b[0;31mAttributeError\u001b[0m                            Traceback (most recent call last)",
      "\u001b[1;32m/Users/evanwoods/Github/hackerrank/Day5/merge-two-sorted-linked-lists.ipynb Cell 24\u001b[0m line \u001b[0;36m1\n\u001b[0;32m----> <a href='vscode-notebook-cell:/Users/evanwoods/Github/hackerrank/Day5/merge-two-sorted-linked-lists.ipynb#Y151sZmlsZQ%3D%3D?line=0'>1</a>\u001b[0m headA\u001b[39m.\u001b[39mnext \u001b[39m=\u001b[39m headA\u001b[39m.\u001b[39;49mnext\u001b[39m.\u001b[39;49mnext\n",
      "\u001b[0;31mAttributeError\u001b[0m: 'NoneType' object has no attribute 'next'"
     ]
    }
   ],
   "source": [
    "headA.next = headA.next.next"
   ]
  },
  {
   "cell_type": "code",
   "execution_count": 166,
   "metadata": {},
   "outputs": [
    {
     "name": "stdout",
     "output_type": "stream",
     "text": [
      "comparison_node.data: 1\n",
      "comparison_node.data: 3\n"
     ]
    }
   ],
   "source": [
    "head_copy = headA\n",
    "comparison_node = SinglyLinkedListNode(headA.data)\n",
    "comparison_node.next = headA.next\n",
    "try:\n",
    "    while comparison_node.next != None and headA.next.data != None:\n",
    "        print('comparison_node.data: {}'.format(comparison_node.data))\n",
    "        comparison_node = headA.next\n",
    "        headA.next = headA.next.next\n",
    "except AttributeError:\n",
    "    print(comparison_node.data)"
   ]
  },
  {
   "cell_type": "code",
   "execution_count": 169,
   "metadata": {},
   "outputs": [],
   "source": [
    "head_copy.next"
   ]
  },
  {
   "cell_type": "code",
   "execution_count": 106,
   "metadata": {},
   "outputs": [
    {
     "data": {
      "text/plain": [
       "<__main__.SinglyLinkedListNode at 0x111d84760>"
      ]
     },
     "execution_count": 106,
     "metadata": {},
     "output_type": "execute_result"
    }
   ],
   "source": [
    "headA.next"
   ]
  },
  {
   "cell_type": "code",
   "execution_count": 108,
   "metadata": {},
   "outputs": [
    {
     "data": {
      "text/plain": [
       "3"
      ]
     },
     "execution_count": 108,
     "metadata": {},
     "output_type": "execute_result"
    }
   ],
   "source": [
    "headA.next.data"
   ]
  },
  {
   "cell_type": "code",
   "execution_count": 180,
   "metadata": {},
   "outputs": [
    {
     "ename": "SyntaxError",
     "evalue": "'break' outside loop (1477045711.py, line 8)",
     "output_type": "error",
     "traceback": [
      "\u001b[0;36m  Cell \u001b[0;32mIn[180], line 8\u001b[0;36m\u001b[0m\n\u001b[0;31m    break\u001b[0m\n\u001b[0m    ^\u001b[0m\n\u001b[0;31mSyntaxError\u001b[0m\u001b[0;31m:\u001b[0m 'break' outside loop\n"
     ]
    }
   ],
   "source": [
    "def traverse_list (node):\n",
    "    try:\n",
    "        while node.next != None:\n",
    "            print(node.data)\n",
    "            traverse_list(node.next.next)\n",
    "    except AttributeError:\n",
    "        print(\"node.next == NoneType\")\n",
    "        break\n",
    "traverse_list(headA)"
   ]
  },
  {
   "cell_type": "code",
   "execution_count": null,
   "metadata": {},
   "outputs": [],
   "source": []
  },
  {
   "cell_type": "code",
   "execution_count": null,
   "metadata": {},
   "outputs": [],
   "source": []
  },
  {
   "cell_type": "code",
   "execution_count": null,
   "metadata": {},
   "outputs": [],
   "source": []
  },
  {
   "cell_type": "code",
   "execution_count": null,
   "metadata": {},
   "outputs": [],
   "source": []
  },
  {
   "cell_type": "code",
   "execution_count": null,
   "metadata": {},
   "outputs": [],
   "source": []
  },
  {
   "cell_type": "code",
   "execution_count": 109,
   "metadata": {},
   "outputs": [],
   "source": [
    "headA.next = headA.next.next"
   ]
  },
  {
   "cell_type": "code",
   "execution_count": 110,
   "metadata": {},
   "outputs": [
    {
     "data": {
      "text/plain": [
       "7"
      ]
     },
     "execution_count": 110,
     "metadata": {},
     "output_type": "execute_result"
    }
   ],
   "source": [
    "headA.next.data"
   ]
  },
  {
   "cell_type": "code",
   "execution_count": 107,
   "metadata": {},
   "outputs": [
    {
     "data": {
      "text/plain": [
       "7"
      ]
     },
     "execution_count": 107,
     "metadata": {},
     "output_type": "execute_result"
    }
   ],
   "source": [
    "headA.next.next.data"
   ]
  },
  {
   "cell_type": "code",
   "execution_count": 62,
   "metadata": {},
   "outputs": [],
   "source": [
    "comparison_node.next"
   ]
  },
  {
   "cell_type": "code",
   "execution_count": 43,
   "metadata": {},
   "outputs": [
    {
     "data": {
      "text/plain": [
       "3"
      ]
     },
     "execution_count": 43,
     "metadata": {},
     "output_type": "execute_result"
    }
   ],
   "source": [
    "headA.head.next.data"
   ]
  },
  {
   "cell_type": "code",
   "execution_count": 45,
   "metadata": {},
   "outputs": [
    {
     "data": {
      "text/plain": [
       "7"
      ]
     },
     "execution_count": 45,
     "metadata": {},
     "output_type": "execute_result"
    }
   ],
   "source": [
    "headA.head.next.next.data"
   ]
  },
  {
   "cell_type": "code",
   "execution_count": null,
   "metadata": {},
   "outputs": [],
   "source": [
    "node = SinglyLinkedListNode(1)"
   ]
  },
  {
   "cell_type": "code",
   "execution_count": null,
   "metadata": {},
   "outputs": [],
   "source": [
    "node.data"
   ]
  },
  {
   "cell_type": "code",
   "execution_count": null,
   "metadata": {},
   "outputs": [],
   "source": [
    "headA = SinglyLinkedList()"
   ]
  },
  {
   "cell_type": "code",
   "execution_count": null,
   "metadata": {},
   "outputs": [],
   "source": [
    "headA.insert_node(1)"
   ]
  },
  {
   "cell_type": "code",
   "execution_count": null,
   "metadata": {},
   "outputs": [],
   "source": [
    "headA.insert_node(3)"
   ]
  },
  {
   "cell_type": "code",
   "execution_count": null,
   "metadata": {},
   "outputs": [],
   "source": [
    "headA.insert_node(7)"
   ]
  },
  {
   "cell_type": "code",
   "execution_count": null,
   "metadata": {},
   "outputs": [],
   "source": [
    "headA.head.data"
   ]
  },
  {
   "cell_type": "code",
   "execution_count": null,
   "metadata": {},
   "outputs": [],
   "source": [
    "headA.tail.data"
   ]
  },
  {
   "cell_type": "code",
   "execution_count": null,
   "metadata": {},
   "outputs": [],
   "source": [
    "headA.tail.next = SinglyLinkedListNode(7)"
   ]
  },
  {
   "cell_type": "code",
   "execution_count": null,
   "metadata": {},
   "outputs": [],
   "source": [
    "headA.tail.next.data"
   ]
  },
  {
   "cell_type": "code",
   "execution_count": null,
   "metadata": {},
   "outputs": [],
   "source": [
    "headA.head.data"
   ]
  },
  {
   "cell_type": "code",
   "execution_count": null,
   "metadata": {},
   "outputs": [],
   "source": [
    "headA.tail.next.next"
   ]
  },
  {
   "cell_type": "code",
   "execution_count": null,
   "metadata": {},
   "outputs": [],
   "source": [
    "headB = SinglyLinkedList()"
   ]
  },
  {
   "cell_type": "code",
   "execution_count": null,
   "metadata": {},
   "outputs": [],
   "source": [
    "headB"
   ]
  },
  {
   "cell_type": "code",
   "execution_count": null,
   "metadata": {},
   "outputs": [],
   "source": [
    "headB.insert_node(1)"
   ]
  },
  {
   "cell_type": "code",
   "execution_count": null,
   "metadata": {},
   "outputs": [],
   "source": [
    "headB.insert_node(2)"
   ]
  },
  {
   "cell_type": "code",
   "execution_count": null,
   "metadata": {},
   "outputs": [],
   "source": [
    "headB.tail.next"
   ]
  },
  {
   "cell_type": "code",
   "execution_count": null,
   "metadata": {},
   "outputs": [],
   "source": [
    "headB.head.data"
   ]
  },
  {
   "cell_type": "code",
   "execution_count": null,
   "metadata": {},
   "outputs": [],
   "source": [
    "headB.tail.data"
   ]
  },
  {
   "cell_type": "code",
   "execution_count": null,
   "metadata": {},
   "outputs": [],
   "source": [
    "headB.tail.next"
   ]
  },
  {
   "cell_type": "code",
   "execution_count": null,
   "metadata": {},
   "outputs": [],
   "source": []
  }
 ],
 "metadata": {
  "kernelspec": {
   "display_name": "Python 3",
   "language": "python",
   "name": "python3"
  },
  "language_info": {
   "codemirror_mode": {
    "name": "ipython",
    "version": 3
   },
   "file_extension": ".py",
   "mimetype": "text/x-python",
   "name": "python",
   "nbconvert_exporter": "python",
   "pygments_lexer": "ipython3",
   "version": "3.9.6"
  },
  "orig_nbformat": 4
 },
 "nbformat": 4,
 "nbformat_minor": 2
}
