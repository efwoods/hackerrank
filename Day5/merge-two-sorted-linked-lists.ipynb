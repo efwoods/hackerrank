{
 "cells": [
  {
   "cell_type": "markdown",
   "metadata": {},
   "source": [
    "# [Merge Two Sorted Linked Lists](https://www.hackerrank.com/challenges/one-week-preparation-kit-merge-two-sorted-linked-lists/problem?isFullScreen=true&h_l=interview&playlist_slugs%5B%5D=preparation-kits&playlist_slugs%5B%5D=one-week-preparation-kit&playlist_slugs%5B%5D=one-week-day-five)"
   ]
  },
  {
   "cell_type": "code",
   "execution_count": 95,
   "metadata": {},
   "outputs": [],
   "source": [
    "class SinglyLinkedListNode:\n",
    "    def __init__(self, node_data):\n",
    "        self.data = node_data\n",
    "        self.next = None"
   ]
  },
  {
   "cell_type": "code",
   "execution_count": 348,
   "metadata": {},
   "outputs": [],
   "source": [
    "headA = SinglyLinkedListNode(1)"
   ]
  },
  {
   "cell_type": "code",
   "execution_count": 349,
   "metadata": {},
   "outputs": [
    {
     "data": {
      "text/plain": [
       "1"
      ]
     },
     "execution_count": 349,
     "metadata": {},
     "output_type": "execute_result"
    }
   ],
   "source": [
    "headA.data"
   ]
  },
  {
   "cell_type": "code",
   "execution_count": 350,
   "metadata": {},
   "outputs": [],
   "source": [
    "headA.next"
   ]
  },
  {
   "cell_type": "code",
   "execution_count": 351,
   "metadata": {},
   "outputs": [],
   "source": [
    "headA.next = SinglyLinkedListNode(3)"
   ]
  },
  {
   "cell_type": "code",
   "execution_count": 352,
   "metadata": {},
   "outputs": [
    {
     "data": {
      "text/plain": [
       "3"
      ]
     },
     "execution_count": 352,
     "metadata": {},
     "output_type": "execute_result"
    }
   ],
   "source": [
    "headA.next.data"
   ]
  },
  {
   "cell_type": "code",
   "execution_count": 249,
   "metadata": {},
   "outputs": [],
   "source": [
    "headA.next.next = SinglyLinkedListNode(7)"
   ]
  },
  {
   "cell_type": "code",
   "execution_count": 253,
   "metadata": {},
   "outputs": [
    {
     "data": {
      "text/plain": [
       "7"
      ]
     },
     "execution_count": 253,
     "metadata": {},
     "output_type": "execute_result"
    }
   ],
   "source": [
    "headA.next.next.data"
   ]
  },
  {
   "cell_type": "code",
   "execution_count": 251,
   "metadata": {},
   "outputs": [],
   "source": [
    "headA.next.next.next"
   ]
  },
  {
   "cell_type": "code",
   "execution_count": null,
   "metadata": {},
   "outputs": [],
   "source": [
    "headA.data"
   ]
  },
  {
   "cell_type": "code",
   "execution_count": 275,
   "metadata": {},
   "outputs": [],
   "source": [
    "headB = SinglyLinkedListNode(1)"
   ]
  },
  {
   "cell_type": "code",
   "execution_count": 276,
   "metadata": {},
   "outputs": [],
   "source": [
    "headB.next = SinglyLinkedListNode(2)"
   ]
  },
  {
   "cell_type": "code",
   "execution_count": 282,
   "metadata": {},
   "outputs": [
    {
     "name": "stdout",
     "output_type": "stream",
     "text": [
      "1\n"
     ]
    }
   ],
   "source": [
    "temp = traverse_list(headB, 2)"
   ]
  },
  {
   "cell_type": "code",
   "execution_count": 330,
   "metadata": {},
   "outputs": [
    {
     "data": {
      "text/plain": [
       "1"
      ]
     },
     "execution_count": 330,
     "metadata": {},
     "output_type": "execute_result"
    }
   ],
   "source": [
    "headA.data"
   ]
  },
  {
   "cell_type": "code",
   "execution_count": 336,
   "metadata": {},
   "outputs": [],
   "source": [
    "temp = SinglyLinkedListNode(headA.data)\n",
    "temp.next = headA.next"
   ]
  },
  {
   "cell_type": "code",
   "execution_count": 337,
   "metadata": {},
   "outputs": [],
   "source": [
    "headA.next = None"
   ]
  },
  {
   "cell_type": "code",
   "execution_count": 341,
   "metadata": {},
   "outputs": [],
   "source": [
    "headA.next"
   ]
  },
  {
   "cell_type": "code",
   "execution_count": 340,
   "metadata": {},
   "outputs": [
    {
     "data": {
      "text/plain": [
       "1"
      ]
     },
     "execution_count": 340,
     "metadata": {},
     "output_type": "execute_result"
    }
   ],
   "source": [
    "temp.data"
   ]
  },
  {
   "cell_type": "code",
   "execution_count": 343,
   "metadata": {},
   "outputs": [
    {
     "data": {
      "text/plain": [
       "3"
      ]
     },
     "execution_count": 343,
     "metadata": {},
     "output_type": "execute_result"
    }
   ],
   "source": [
    "temp.next.data"
   ]
  },
  {
   "cell_type": "code",
   "execution_count": 284,
   "metadata": {},
   "outputs": [],
   "source": [
    "def compare_nodes (main_node, comp_node):\n",
    "        final = 0\n",
    "        # if main list == comparison list\n",
    "        if main_node.data == comp_node.data: # main list will eventually be returned\n",
    "            print(\"node.data == comparison_node.data: {} == {}\".format(main_node.data, comp_node.data))\n",
    "\n",
    "            \n",
    "            # save the next node of the main list: 3 -> 7 -> NULL\n",
    "            temp_main_node = SinglyLinkedListNode(main_node.data)\n",
    "            temp_main_node.next = main_node.next\n",
    "            \n",
    "            # save the next node of the comparison list: 2 -> NULL\n",
    "            temp_comp_node = SinglyLinkedListNode(comp_node.data)\n",
    "            temp_comp_node.next = comp_node.next\n",
    "            \n",
    "            # comparison list node.next = None: 1 -> NULL\n",
    "            comp_node.next = None\n",
    "            \n",
    "            # main list node.next = comparison list: 1 -> 1-> Null\n",
    "            main_node.next = comp_node\n",
    "            \n",
    "            # main list node.next.next = saved next node of the main list: 1 -> 1 -> 3 -> 7 -> NULL\n",
    "            main_node.next.next = temp_main_node\n",
    "            \n",
    "            # check to see if comparison list.next is null was set; return the main list at the end; else continue\n",
    "            if final == 1:\n",
    "                return main_node\n",
    "            else:\n",
    "                # comparison list = saved next node of the comparison list: 2 -> NULL\n",
    "                # temp_comp_node is new comp_node\n",
    "                # compare main list and comparison list (comparison list should be new or none)\n",
    "                return compare_nodes(main_node, temp_comp_node)\n",
    "        \n",
    "        elif main_node.data < comp_node.data: # if main list < comparison list; main list will eventually be returned\n",
    "            print(\"main_node.data < comp_node.data: {} < {}\".format(main_node.data, comp_node.data))\n",
    "            # check to see if comparison list.next is null; if yes then set a condition, continue and return the main list at the end; else continue\n",
    "            if comp_node.next == None:\n",
    "                final = 1\n",
    "            # main list: 1 -> NULL\n",
    "            # compare list: 2 -> NULL\n",
    "            if main_node.next == None:\n",
    "                # concat comp onto main.next\n",
    "                main_node.next = comp_node\n",
    "                final = 1\n",
    "            else: \n",
    "                # traverse(main list) until main list > comparison list or main list is null\n",
    "                next_greater_node = traverse_list_for_greater_than(main_node, comp_node.data)\n",
    "                # if main list is null; traverse the main list and return the last node; node.next from this return = compare list\n",
    "                # if comp_node is greater than all main node\n",
    "                if next_greater_node.next == None:\n",
    "                    next_greater_node.next = comp_node\n",
    "                    final = 1\n",
    "                else:\n",
    "                    # state: main list is not null & the main list is > comparison list (3); traverse the main list with a stop value until the stop value is reached. this will return the penultimate node ( the second 1->); this is stored as a temp, but references the main list because it is not copied.; return the ulitimate node (3 ->...)\n",
    "                    penultimate_next_greater_node = penultimate_traverse_list(main_node, main_node.next, next_greater_node.data)\n",
    "                    \n",
    "                    # save the next greater node: 3 -> 7 -> NULL\n",
    "                    temp_next_greater_node = SinglyLinkedListNode(next_greater_node.data)\n",
    "                    temp_next_greater_node.next = next_greater_node.next\n",
    "                    \n",
    "                    # remove link from penultimate to next_greater_node\n",
    "                    # 1 -> 1 -> NULL\n",
    "                    penultimate_next_greater_node.next = None\n",
    "                    \n",
    "                    # save the next node of the comparison list: 2 -> NULL\n",
    "                    if comp_node.next != None\n",
    "                        temp_comp_node = SinglyLinkedListNode(comp_node.data)\n",
    "                        temp_comp_node.next = comp_node.next\n",
    "                    else:\n",
    "                        final = 1\n",
    "                    \n",
    "                    # set the temp main list next = comparison list: 1 -> 1 -> 2 -> NULL\n",
    "                    penultimate_next_greater_node.next = comp_node\n",
    "                    \n",
    "                    # set the temp main list next.next = ultimate node: 1 -> 1 -> 2 -> 3 -> 7 -> NULL\n",
    "                    penultimate_next_greate_node.next.next = next_greater_node\n",
    "                    \n",
    "                    if final == 1:\n",
    "                        return main_node\n",
    "                    else:\n",
    "                        return compare_nodes(main_node, temp_comp_node)\n",
    "             \n",
    "        else \n",
    "            print(\"main_node.data > comp_node.data: {} < {}\".format(main_node.data, comp_node.data))\n",
    "            \n",
    "            if main_node.next == None:\n",
    "                final = 1\n",
    "            \n",
    "            if comp_node.next == None:\n",
    "            \n",
    "                comp_node.next = main_node\n",
    "                final = 1\n",
    "            else: \n",
    "            \n",
    "                next_greater_node = traverse_list_for_greater_than(comp_node, main_node.data)\n",
    "                if next_greater_node.next == None:\n",
    "                    next_greater_node.next = main_node\n",
    "                    final = 1\n",
    "                else:\n",
    "                    penultimate_next_greater_node = penultimate_traverse_list(comp_node, comp_node.next, next_greater_node.data)\n",
    "                    \n",
    "                    # save the next greater node\n",
    "                    temp_next_greater_node = SinglyLinkedListNode(next_greater_node.data)\n",
    "                    temp_next_greater_node.next = next_greater_node.next\n",
    "                    \n",
    "                    # remove link from penultimate to next_greater_node\n",
    "                    penultimate_next_greater_node.next = None\n",
    "                    \n",
    "                    # save the next node of the comparison list\n",
    "                    if main_node.next != None\n",
    "                        temp_main_node = SinglyLinkedListNode(main_node.data)\n",
    "                        temp_main_node.next = main_node.next\n",
    "                    else:\n",
    "                        final = 1\n",
    "                    \n",
    "                    penultimate_next_greater_node.next = main_node\n",
    "                    \n",
    "                    penultimate_next_greate_node.next.next = next_greater_node\n",
    "                    \n",
    "                    if final == 1:\n",
    "                        return comp_node\n",
    "                    else:\n",
    "                        return compare_nodes(temp_main_node, comp_node)"
   ]
  },
  {
   "cell_type": "code",
   "execution_count": 375,
   "metadata": {},
   "outputs": [
    {
     "name": "stdout",
     "output_type": "stream",
     "text": [
      "1\n",
      "3\n",
      "AttributeError\n"
     ]
    },
    {
     "data": {
      "text/plain": [
       "3"
      ]
     },
     "execution_count": 375,
     "metadata": {},
     "output_type": "execute_result"
    }
   ],
   "source": [
    "def traverse_list (node, stop_value):\n",
    "        if node.data != stop_value:\n",
    "            print(node.data)\n",
    "            # print(stop_value)\n",
    "            try:\n",
    "                return traverse_list(node.next, stop_value)\n",
    "            except AttributeError:\n",
    "                print(\"AttributeError\")\n",
    "                exit\n",
    "        return node\n",
    "temp_node = traverse_list(headA, 2)\n",
    "temp_node.data"
   ]
  },
  {
   "cell_type": "code",
   "execution_count": 380,
   "metadata": {},
   "outputs": [
    {
     "data": {
      "text/plain": [
       "1"
      ]
     },
     "execution_count": 380,
     "metadata": {},
     "output_type": "execute_result"
    }
   ],
   "source": [
    "headA.data"
   ]
  },
  {
   "cell_type": "code",
   "execution_count": 398,
   "metadata": {},
   "outputs": [
    {
     "data": {
      "text/plain": [
       "True"
      ]
     },
     "execution_count": 398,
     "metadata": {},
     "output_type": "execute_result"
    }
   ],
   "source": [
    "headA.next.next == None"
   ]
  },
  {
   "cell_type": "code",
   "execution_count": null,
   "metadata": {},
   "outputs": [],
   "source": []
  },
  {
   "cell_type": "code",
   "execution_count": 394,
   "metadata": {},
   "outputs": [
    {
     "name": "stdout",
     "output_type": "stream",
     "text": [
      "1\n",
      "3\n",
      "AttributeError\n"
     ]
    },
    {
     "data": {
      "text/plain": [
       "3"
      ]
     },
     "execution_count": 394,
     "metadata": {},
     "output_type": "execute_result"
    }
   ],
   "source": [
    "def traverse_list_for_greater_than(node, stop_value):\n",
    "        if node.data < stop_value:\n",
    "            print(node.data)\n",
    "            # print(stop_value)\n",
    "            try:\n",
    "                return traverse_list(node.next, stop_value)\n",
    "            except AttributeError:\n",
    "                print(\"AttributeError\")\n",
    "                exit\n",
    "        else:\n",
    "            return node\n",
    "temp_node = traverse_list_for_greater_than(headA, 8)\n",
    "temp_node.data"
   ]
  },
  {
   "cell_type": "code",
   "execution_count": 387,
   "metadata": {},
   "outputs": [],
   "source": [
    "hope = SinglyLinkedListNode(1)"
   ]
  },
  {
   "cell_type": "code",
   "execution_count": 388,
   "metadata": {},
   "outputs": [],
   "source": [
    "hope.next"
   ]
  },
  {
   "cell_type": "code",
   "execution_count": 392,
   "metadata": {},
   "outputs": [
    {
     "name": "stdout",
     "output_type": "stream",
     "text": [
      "1\n",
      "AttributeError\n"
     ]
    }
   ],
   "source": [
    "truth = traverse_list_for_greater_than(hope, 8)"
   ]
  },
  {
   "cell_type": "code",
   "execution_count": 393,
   "metadata": {},
   "outputs": [
    {
     "ename": "AttributeError",
     "evalue": "'NoneType' object has no attribute 'data'",
     "output_type": "error",
     "traceback": [
      "\u001b[0;31m---------------------------------------------------------------------------\u001b[0m",
      "\u001b[0;31mAttributeError\u001b[0m                            Traceback (most recent call last)",
      "\u001b[1;32m/Users/evanwoods/Github/hackerrank/Day5/merge-two-sorted-linked-lists.ipynb Cell 28\u001b[0m line \u001b[0;36m1\n\u001b[0;32m----> <a href='vscode-notebook-cell:/Users/evanwoods/Github/hackerrank/Day5/merge-two-sorted-linked-lists.ipynb#Y244sZmlsZQ%3D%3D?line=0'>1</a>\u001b[0m truth\u001b[39m.\u001b[39;49mdata\n",
      "\u001b[0;31mAttributeError\u001b[0m: 'NoneType' object has no attribute 'data'"
     ]
    }
   ],
   "source": [
    "truth.data"
   ]
  },
  {
   "cell_type": "code",
   "execution_count": 386,
   "metadata": {},
   "outputs": [
    {
     "data": {
      "text/plain": [
       "3"
      ]
     },
     "execution_count": 386,
     "metadata": {},
     "output_type": "execute_result"
    }
   ],
   "source": [
    "temp_node.data"
   ]
  },
  {
   "cell_type": "code",
   "execution_count": 363,
   "metadata": {},
   "outputs": [],
   "source": [
    "def penultimate_traverse_list (node, next, stop_value):\n",
    "        if node.next.data != stop_value:\n",
    "            print(node.data)\n",
    "            print(node.next.data)\n",
    "            # print(stop_value)\n",
    "            try:\n",
    "                return traverse_list(node.next, node.next.next, stop_value)\n",
    "            except TypeError:\n",
    "                print(\"TypeError\")\n",
    "                exit\n",
    "        else:\n",
    "            return node"
   ]
  },
  {
   "cell_type": "code",
   "execution_count": 374,
   "metadata": {},
   "outputs": [
    {
     "name": "stdout",
     "output_type": "stream",
     "text": [
      "1\n",
      "3\n",
      "TypeError\n"
     ]
    }
   ],
   "source": [
    "new_temp = penultimate_traverse_list(headA, headA.next, 2)"
   ]
  },
  {
   "cell_type": "code",
   "execution_count": 373,
   "metadata": {},
   "outputs": [
    {
     "ename": "AttributeError",
     "evalue": "'NoneType' object has no attribute 'data'",
     "output_type": "error",
     "traceback": [
      "\u001b[0;31m---------------------------------------------------------------------------\u001b[0m",
      "\u001b[0;31mAttributeError\u001b[0m                            Traceback (most recent call last)",
      "\u001b[1;32m/Users/evanwoods/Github/hackerrank/Day5/merge-two-sorted-linked-lists.ipynb Cell 26\u001b[0m line \u001b[0;36m1\n\u001b[0;32m----> <a href='vscode-notebook-cell:/Users/evanwoods/Github/hackerrank/Day5/merge-two-sorted-linked-lists.ipynb#Y225sZmlsZQ%3D%3D?line=0'>1</a>\u001b[0m new_temp\u001b[39m.\u001b[39;49mdata\n",
      "\u001b[0;31mAttributeError\u001b[0m: 'NoneType' object has no attribute 'data'"
     ]
    }
   ],
   "source": [
    "new_temp.data"
   ]
  },
  {
   "cell_type": "code",
   "execution_count": 356,
   "metadata": {},
   "outputs": [
    {
     "data": {
      "text/plain": [
       "1"
      ]
     },
     "execution_count": 356,
     "metadata": {},
     "output_type": "execute_result"
    }
   ],
   "source": [
    "headA.data"
   ]
  },
  {
   "cell_type": "code",
   "execution_count": null,
   "metadata": {},
   "outputs": [],
   "source": []
  },
  {
   "cell_type": "code",
   "execution_count": null,
   "metadata": {},
   "outputs": [],
   "source": []
  },
  {
   "cell_type": "code",
   "execution_count": null,
   "metadata": {},
   "outputs": [],
   "source": []
  },
  {
   "cell_type": "code",
   "execution_count": null,
   "metadata": {},
   "outputs": [],
   "source": []
  },
  {
   "cell_type": "code",
   "execution_count": 175,
   "metadata": {},
   "outputs": [],
   "source": [
    "headA.next.next"
   ]
  },
  {
   "cell_type": "code",
   "execution_count": 163,
   "metadata": {},
   "outputs": [],
   "source": [
    "headA.next.next = SinglyLinkedListNode(7)"
   ]
  },
  {
   "cell_type": "code",
   "execution_count": 164,
   "metadata": {},
   "outputs": [
    {
     "data": {
      "text/plain": [
       "7"
      ]
     },
     "execution_count": 164,
     "metadata": {},
     "output_type": "execute_result"
    }
   ],
   "source": [
    "headA.next.next.data"
   ]
  },
  {
   "cell_type": "code",
   "execution_count": 131,
   "metadata": {},
   "outputs": [],
   "source": [
    "comparison_node = SinglyLinkedListNode(headA.data)"
   ]
  },
  {
   "cell_type": "code",
   "execution_count": 132,
   "metadata": {},
   "outputs": [],
   "source": [
    "comparison_node.next = headA.next"
   ]
  },
  {
   "cell_type": "code",
   "execution_count": 133,
   "metadata": {},
   "outputs": [
    {
     "data": {
      "text/plain": [
       "<__main__.SinglyLinkedListNode at 0x111f5c460>"
      ]
     },
     "execution_count": 133,
     "metadata": {},
     "output_type": "execute_result"
    }
   ],
   "source": [
    "comparison_node.next"
   ]
  },
  {
   "cell_type": "code",
   "execution_count": 134,
   "metadata": {},
   "outputs": [
    {
     "data": {
      "text/plain": [
       "3"
      ]
     },
     "execution_count": 134,
     "metadata": {},
     "output_type": "execute_result"
    }
   ],
   "source": [
    "headA.next.data"
   ]
  },
  {
   "cell_type": "code",
   "execution_count": 135,
   "metadata": {},
   "outputs": [
    {
     "data": {
      "text/plain": [
       "1"
      ]
     },
     "execution_count": 135,
     "metadata": {},
     "output_type": "execute_result"
    }
   ],
   "source": [
    "comparison_node.data"
   ]
  },
  {
   "cell_type": "code",
   "execution_count": 138,
   "metadata": {},
   "outputs": [],
   "source": [
    "comparison_node = headA.next"
   ]
  },
  {
   "cell_type": "code",
   "execution_count": 139,
   "metadata": {},
   "outputs": [
    {
     "data": {
      "text/plain": [
       "3"
      ]
     },
     "execution_count": 139,
     "metadata": {},
     "output_type": "execute_result"
    }
   ],
   "source": [
    "comparison_node.data"
   ]
  },
  {
   "cell_type": "code",
   "execution_count": 140,
   "metadata": {},
   "outputs": [],
   "source": [
    "headA.next = headA.next.next"
   ]
  },
  {
   "cell_type": "code",
   "execution_count": 141,
   "metadata": {},
   "outputs": [
    {
     "data": {
      "text/plain": [
       "3"
      ]
     },
     "execution_count": 141,
     "metadata": {},
     "output_type": "execute_result"
    }
   ],
   "source": [
    "comparison_node.data"
   ]
  },
  {
   "cell_type": "code",
   "execution_count": 142,
   "metadata": {},
   "outputs": [],
   "source": [
    "comparison_node = headA.next"
   ]
  },
  {
   "cell_type": "code",
   "execution_count": 143,
   "metadata": {},
   "outputs": [],
   "source": [
    "headA.next = headA.next.next"
   ]
  },
  {
   "cell_type": "code",
   "execution_count": 144,
   "metadata": {},
   "outputs": [
    {
     "data": {
      "text/plain": [
       "7"
      ]
     },
     "execution_count": 144,
     "metadata": {},
     "output_type": "execute_result"
    }
   ],
   "source": [
    "comparison_node.data"
   ]
  },
  {
   "cell_type": "code",
   "execution_count": 145,
   "metadata": {},
   "outputs": [],
   "source": [
    "comparison_node = headA.next"
   ]
  },
  {
   "cell_type": "code",
   "execution_count": 146,
   "metadata": {},
   "outputs": [
    {
     "ename": "AttributeError",
     "evalue": "'NoneType' object has no attribute 'next'",
     "output_type": "error",
     "traceback": [
      "\u001b[0;31m---------------------------------------------------------------------------\u001b[0m",
      "\u001b[0;31mAttributeError\u001b[0m                            Traceback (most recent call last)",
      "\u001b[1;32m/Users/evanwoods/Github/hackerrank/Day5/merge-two-sorted-linked-lists.ipynb Cell 24\u001b[0m line \u001b[0;36m1\n\u001b[0;32m----> <a href='vscode-notebook-cell:/Users/evanwoods/Github/hackerrank/Day5/merge-two-sorted-linked-lists.ipynb#Y151sZmlsZQ%3D%3D?line=0'>1</a>\u001b[0m headA\u001b[39m.\u001b[39mnext \u001b[39m=\u001b[39m headA\u001b[39m.\u001b[39;49mnext\u001b[39m.\u001b[39;49mnext\n",
      "\u001b[0;31mAttributeError\u001b[0m: 'NoneType' object has no attribute 'next'"
     ]
    }
   ],
   "source": [
    "headA.next = headA.next.next"
   ]
  },
  {
   "cell_type": "code",
   "execution_count": 166,
   "metadata": {},
   "outputs": [
    {
     "name": "stdout",
     "output_type": "stream",
     "text": [
      "comparison_node.data: 1\n",
      "comparison_node.data: 3\n"
     ]
    }
   ],
   "source": [
    "head_copy = headA\n",
    "comparison_node = SinglyLinkedListNode(headA.data)\n",
    "comparison_node.next = headA.next\n",
    "try:\n",
    "    while comparison_node.next != None and headA.next.data != None:\n",
    "        print('comparison_node.data: {}'.format(comparison_node.data))\n",
    "        comparison_node = headA.next\n",
    "        headA.next = headA.next.next\n",
    "except AttributeError:\n",
    "    print(comparison_node.data)"
   ]
  },
  {
   "cell_type": "code",
   "execution_count": 169,
   "metadata": {},
   "outputs": [],
   "source": [
    "head_copy.next"
   ]
  },
  {
   "cell_type": "code",
   "execution_count": 106,
   "metadata": {},
   "outputs": [
    {
     "data": {
      "text/plain": [
       "<__main__.SinglyLinkedListNode at 0x111d84760>"
      ]
     },
     "execution_count": 106,
     "metadata": {},
     "output_type": "execute_result"
    }
   ],
   "source": [
    "headA.next"
   ]
  },
  {
   "cell_type": "code",
   "execution_count": 108,
   "metadata": {},
   "outputs": [
    {
     "data": {
      "text/plain": [
       "3"
      ]
     },
     "execution_count": 108,
     "metadata": {},
     "output_type": "execute_result"
    }
   ],
   "source": [
    "headA.next.data"
   ]
  },
  {
   "cell_type": "code",
   "execution_count": 180,
   "metadata": {},
   "outputs": [
    {
     "ename": "SyntaxError",
     "evalue": "'break' outside loop (1477045711.py, line 8)",
     "output_type": "error",
     "traceback": [
      "\u001b[0;36m  Cell \u001b[0;32mIn[180], line 8\u001b[0;36m\u001b[0m\n\u001b[0;31m    break\u001b[0m\n\u001b[0m    ^\u001b[0m\n\u001b[0;31mSyntaxError\u001b[0m\u001b[0;31m:\u001b[0m 'break' outside loop\n"
     ]
    }
   ],
   "source": [
    "def traverse_list (node):\n",
    "    try:\n",
    "        while node.next != None:\n",
    "            print(node.data)\n",
    "            traverse_list(node.next.next)\n",
    "    except AttributeError:\n",
    "        print(\"node.next == NoneType\")\n",
    "        break\n",
    "traverse_list(headA)"
   ]
  },
  {
   "cell_type": "code",
   "execution_count": null,
   "metadata": {},
   "outputs": [],
   "source": []
  },
  {
   "cell_type": "code",
   "execution_count": null,
   "metadata": {},
   "outputs": [],
   "source": []
  },
  {
   "cell_type": "code",
   "execution_count": null,
   "metadata": {},
   "outputs": [],
   "source": []
  },
  {
   "cell_type": "code",
   "execution_count": null,
   "metadata": {},
   "outputs": [],
   "source": []
  },
  {
   "cell_type": "code",
   "execution_count": null,
   "metadata": {},
   "outputs": [],
   "source": []
  },
  {
   "cell_type": "code",
   "execution_count": 109,
   "metadata": {},
   "outputs": [],
   "source": [
    "headA.next = headA.next.next"
   ]
  },
  {
   "cell_type": "code",
   "execution_count": 110,
   "metadata": {},
   "outputs": [
    {
     "data": {
      "text/plain": [
       "7"
      ]
     },
     "execution_count": 110,
     "metadata": {},
     "output_type": "execute_result"
    }
   ],
   "source": [
    "headA.next.data"
   ]
  },
  {
   "cell_type": "code",
   "execution_count": 107,
   "metadata": {},
   "outputs": [
    {
     "data": {
      "text/plain": [
       "7"
      ]
     },
     "execution_count": 107,
     "metadata": {},
     "output_type": "execute_result"
    }
   ],
   "source": [
    "headA.next.next.data"
   ]
  },
  {
   "cell_type": "code",
   "execution_count": 62,
   "metadata": {},
   "outputs": [],
   "source": [
    "comparison_node.next"
   ]
  },
  {
   "cell_type": "code",
   "execution_count": 43,
   "metadata": {},
   "outputs": [
    {
     "data": {
      "text/plain": [
       "3"
      ]
     },
     "execution_count": 43,
     "metadata": {},
     "output_type": "execute_result"
    }
   ],
   "source": [
    "headA.head.next.data"
   ]
  },
  {
   "cell_type": "code",
   "execution_count": 45,
   "metadata": {},
   "outputs": [
    {
     "data": {
      "text/plain": [
       "7"
      ]
     },
     "execution_count": 45,
     "metadata": {},
     "output_type": "execute_result"
    }
   ],
   "source": [
    "headA.head.next.next.data"
   ]
  },
  {
   "cell_type": "code",
   "execution_count": null,
   "metadata": {},
   "outputs": [],
   "source": [
    "node = SinglyLinkedListNode(1)"
   ]
  },
  {
   "cell_type": "code",
   "execution_count": null,
   "metadata": {},
   "outputs": [],
   "source": [
    "node.data"
   ]
  },
  {
   "cell_type": "code",
   "execution_count": null,
   "metadata": {},
   "outputs": [],
   "source": [
    "headA = SinglyLinkedList()"
   ]
  },
  {
   "cell_type": "code",
   "execution_count": null,
   "metadata": {},
   "outputs": [],
   "source": [
    "headA.insert_node(1)"
   ]
  },
  {
   "cell_type": "code",
   "execution_count": null,
   "metadata": {},
   "outputs": [],
   "source": [
    "headA.insert_node(3)"
   ]
  },
  {
   "cell_type": "code",
   "execution_count": null,
   "metadata": {},
   "outputs": [],
   "source": [
    "headA.insert_node(7)"
   ]
  },
  {
   "cell_type": "code",
   "execution_count": null,
   "metadata": {},
   "outputs": [],
   "source": [
    "headA.head.data"
   ]
  },
  {
   "cell_type": "code",
   "execution_count": null,
   "metadata": {},
   "outputs": [],
   "source": [
    "headA.tail.data"
   ]
  },
  {
   "cell_type": "code",
   "execution_count": null,
   "metadata": {},
   "outputs": [],
   "source": [
    "headA.tail.next = SinglyLinkedListNode(7)"
   ]
  },
  {
   "cell_type": "code",
   "execution_count": null,
   "metadata": {},
   "outputs": [],
   "source": [
    "headA.tail.next.data"
   ]
  },
  {
   "cell_type": "code",
   "execution_count": null,
   "metadata": {},
   "outputs": [],
   "source": [
    "headA.head.data"
   ]
  },
  {
   "cell_type": "code",
   "execution_count": null,
   "metadata": {},
   "outputs": [],
   "source": [
    "headA.tail.next.next"
   ]
  },
  {
   "cell_type": "code",
   "execution_count": null,
   "metadata": {},
   "outputs": [],
   "source": [
    "headB = SinglyLinkedList()"
   ]
  },
  {
   "cell_type": "code",
   "execution_count": null,
   "metadata": {},
   "outputs": [],
   "source": [
    "headB"
   ]
  },
  {
   "cell_type": "code",
   "execution_count": null,
   "metadata": {},
   "outputs": [],
   "source": [
    "headB.insert_node(1)"
   ]
  },
  {
   "cell_type": "code",
   "execution_count": null,
   "metadata": {},
   "outputs": [],
   "source": [
    "headB.insert_node(2)"
   ]
  },
  {
   "cell_type": "code",
   "execution_count": null,
   "metadata": {},
   "outputs": [],
   "source": [
    "headB.tail.next"
   ]
  },
  {
   "cell_type": "code",
   "execution_count": null,
   "metadata": {},
   "outputs": [],
   "source": [
    "headB.head.data"
   ]
  },
  {
   "cell_type": "code",
   "execution_count": null,
   "metadata": {},
   "outputs": [],
   "source": [
    "headB.tail.data"
   ]
  },
  {
   "cell_type": "code",
   "execution_count": null,
   "metadata": {},
   "outputs": [],
   "source": [
    "headB.tail.next"
   ]
  },
  {
   "cell_type": "code",
   "execution_count": null,
   "metadata": {},
   "outputs": [],
   "source": []
  }
 ],
 "metadata": {
  "kernelspec": {
   "display_name": "Python 3",
   "language": "python",
   "name": "python3"
  },
  "language_info": {
   "codemirror_mode": {
    "name": "ipython",
    "version": 3
   },
   "file_extension": ".py",
   "mimetype": "text/x-python",
   "name": "python",
   "nbconvert_exporter": "python",
   "pygments_lexer": "ipython3",
   "version": "3.9.6"
  },
  "orig_nbformat": 4
 },
 "nbformat": 4,
 "nbformat_minor": 2
}
