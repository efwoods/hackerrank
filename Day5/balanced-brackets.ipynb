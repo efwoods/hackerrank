{
 "cells": [
  {
   "cell_type": "markdown",
   "metadata": {},
   "source": [
    "# [Balanced Brackets](https://www.hackerrank.com/challenges/one-week-preparation-kit-balanced-brackets/problem?isFullScreen=true&h_l=interview&playlist_slugs%5B%5D=preparation-kits&playlist_slugs%5B%5D=one-week-preparation-kit&playlist_slugs%5B%5D=one-week-day-five)"
   ]
  },
  {
   "cell_type": "code",
   "execution_count": 52,
   "metadata": {},
   "outputs": [],
   "source": [
    "def isBalanced(s):\n",
    "    s1_char = [x for x in s]\n",
    "    char = 0\n",
    "    queueLeft = []\n",
    "    fail = 0\n",
    "    bracket_dict = {\n",
    "        \"{\":\"}\",\n",
    "        \"[\":\"]\",\n",
    "        \"(\":\")\"\n",
    "    }\n",
    "    \n",
    "    while char < len(s1_char) and fail != 1:\n",
    "        while s1_char[char] == \"{\" or s1_char[char] == \"[\" or s1_char[char] == \"(\":\n",
    "            # print(\"s1_char[char]: {}\".format(s1_char[char]))\n",
    "            queueLeft.append(s1_char[char])\n",
    "            char += 1\n",
    "        else:\n",
    "            compare = bracket_dict[queueLeft.pop()]\n",
    "            if compare != s1_char[char]:\n",
    "                print(\"compare: {}\\ns1_char[char]: {}\".format(compare, s1_char[char]))\n",
    "                print(\"NO\")\n",
    "                fail = 1\n",
    "                break\n",
    "            else:\n",
    "                char += 1\n",
    "    if not fail:\n",
    "        print(\"YES\")    "
   ]
  },
  {
   "cell_type": "markdown",
   "metadata": {},
   "source": [
    "## Test Cases"
   ]
  },
  {
   "cell_type": "code",
   "execution_count": 53,
   "metadata": {},
   "outputs": [
    {
     "name": "stdout",
     "output_type": "stream",
     "text": [
      "YES\n"
     ]
    }
   ],
   "source": [
    "# Expected Yes; aka balanced\n",
    "s1 = '{[[()]]}'\n",
    "balanced_brackets(s1)"
   ]
  },
  {
   "cell_type": "code",
   "execution_count": 54,
   "metadata": {},
   "outputs": [
    {
     "name": "stdout",
     "output_type": "stream",
     "text": [
      "compare: )\n",
      "s1_char[char]: ]\n",
      "NO\n"
     ]
    }
   ],
   "source": [
    "# Expected No; aka unbalanced\n",
    "s2 = '{[(]]}'\n",
    "balanced_brackets(s2)"
   ]
  },
  {
   "cell_type": "code",
   "execution_count": 55,
   "metadata": {},
   "outputs": [
    {
     "name": "stdout",
     "output_type": "stream",
     "text": [
      "YES\n"
     ]
    }
   ],
   "source": [
    "# Expected Yes; aka balanced\n",
    "s3 = '{{[[(())]]}}'\n",
    "balanced_brackets(s3)"
   ]
  },
  {
   "cell_type": "code",
   "execution_count": 56,
   "metadata": {},
   "outputs": [
    {
     "name": "stdout",
     "output_type": "stream",
     "text": [
      "YES\n"
     ]
    }
   ],
   "source": [
    "# Expected Yes\n",
    "s = '{[()]}'\n",
    "balanced_brackets(s)"
   ]
  },
  {
   "cell_type": "code",
   "execution_count": 57,
   "metadata": {},
   "outputs": [
    {
     "name": "stdout",
     "output_type": "stream",
     "text": [
      "compare: )\n",
      "s1_char[char]: ]\n",
      "NO\n"
     ]
    }
   ],
   "source": [
    "# Expected No\n",
    "s = '{[(])}'\n",
    "balanced_brackets(s)"
   ]
  },
  {
   "cell_type": "code",
   "execution_count": 58,
   "metadata": {},
   "outputs": [
    {
     "name": "stdout",
     "output_type": "stream",
     "text": [
      "YES\n"
     ]
    }
   ],
   "source": [
    "# Expected Yes\n",
    "s = '{{[[(())]]}}'\n",
    "balanced_brackets(s)"
   ]
  },
  {
   "cell_type": "code",
   "execution_count": 60,
   "metadata": {},
   "outputs": [
    {
     "name": "stdout",
     "output_type": "stream",
     "text": [
      "YES\n"
     ]
    }
   ],
   "source": [
    "# Expected Yes\n",
    "s = '{{([])}}'\n",
    "balanced_brackets(s)"
   ]
  },
  {
   "cell_type": "code",
   "execution_count": 61,
   "metadata": {},
   "outputs": [
    {
     "name": "stdout",
     "output_type": "stream",
     "text": [
      "compare: }\n",
      "s1_char[char]: )\n",
      "NO\n"
     ]
    }
   ],
   "source": [
    "# Expected No\n",
    "s = '{{)[](}}'\n",
    "balanced_brackets(s)"
   ]
  },
  {
   "cell_type": "code",
   "execution_count": 62,
   "metadata": {},
   "outputs": [
    {
     "name": "stdout",
     "output_type": "stream",
     "text": [
      "YES\n"
     ]
    }
   ],
   "source": [
    "# Expected Yes\n",
    "s = '{(([])[])[]}'\n",
    "balanced_brackets(s)"
   ]
  },
  {
   "cell_type": "code",
   "execution_count": 63,
   "metadata": {},
   "outputs": [
    {
     "name": "stdout",
     "output_type": "stream",
     "text": [
      "compare: }\n",
      "s1_char[char]: ]\n",
      "NO\n"
     ]
    }
   ],
   "source": [
    "# Expected No\n",
    "s = '{(([])[])[]]}'\n",
    "balanced_brackets(s)"
   ]
  },
  {
   "cell_type": "code",
   "execution_count": 64,
   "metadata": {},
   "outputs": [
    {
     "name": "stdout",
     "output_type": "stream",
     "text": [
      "YES\n"
     ]
    }
   ],
   "source": [
    "# Expected Yes\n",
    "s = '{(([])[])[]}[]'\n",
    "balanced_brackets(s)"
   ]
  },
  {
   "cell_type": "code",
   "execution_count": null,
   "metadata": {},
   "outputs": [],
   "source": []
  }
 ],
 "metadata": {
  "kernelspec": {
   "display_name": "Python 3",
   "language": "python",
   "name": "python3"
  },
  "language_info": {
   "codemirror_mode": {
    "name": "ipython",
    "version": 3
   },
   "file_extension": ".py",
   "mimetype": "text/x-python",
   "name": "python",
   "nbconvert_exporter": "python",
   "pygments_lexer": "ipython3",
   "version": "3.9.6"
  },
  "orig_nbformat": 4
 },
 "nbformat": 4,
 "nbformat_minor": 2
}
