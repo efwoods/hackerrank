{
 "cells": [
  {
   "cell_type": "code",
   "execution_count": 1,
   "metadata": {},
   "outputs": [
    {
     "name": "stdout",
     "output_type": "stream",
     "text": [
      "mouse count : 3\n"
     ]
    }
   ],
   "source": [
    "# count the number of mouse in list of devices\n",
    "devices = ['laptop','mouse', 'charger', 'mouse', 'keyboard', 'mouse']\n",
    "mouse_count = 0\n",
    "\n",
    "for device in devices:\n",
    "    if device.upper() == 'MOUSE':\n",
    "        mouse_count += 1\n",
    "\n",
    "print(f\"mouse count : {mouse_count}\")"
   ]
  }
 ],
 "metadata": {
  "kernelspec": {
   "display_name": "Python 3",
   "language": "python",
   "name": "python3"
  },
  "language_info": {
   "codemirror_mode": {
    "name": "ipython",
    "version": 3
   },
   "file_extension": ".py",
   "mimetype": "text/x-python",
   "name": "python",
   "nbconvert_exporter": "python",
   "pygments_lexer": "ipython3",
   "version": "3.9.6"
  },
  "orig_nbformat": 4
 },
 "nbformat": 4,
 "nbformat_minor": 2
}
