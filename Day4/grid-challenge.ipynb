{
 "cells": [
  {
   "cell_type": "markdown",
   "metadata": {},
   "source": [
    "# [Grid Challenge](https://www.hackerrank.com/challenges/one-week-preparation-kit-grid-challenge/problem?isFullScreen=true&h_l=interview&playlist_slugs%5B%5D=preparation-kits&playlist_slugs%5B%5D=one-week-preparation-kit&playlist_slugs%5B%5D=one-week-day-four)"
   ]
  },
  {
   "cell_type": "code",
   "execution_count": 72,
   "metadata": {},
   "outputs": [],
   "source": [
    "#!/bin/python3\n",
    "\n",
    "import math\n",
    "import os\n",
    "import random\n",
    "import re\n",
    "import sys\n",
    "\n",
    "def sort_grid(grid):\n",
    "    sorted_grid = []\n",
    "    for i in range(len(grid[0])):\n",
    "        row = [ord(x) for x in grid[i]]\n",
    "        row.sort()\n",
    "        row_string = \"\"\n",
    "        for char in row:\n",
    "            row_string += chr(char)\n",
    "        sorted_grid.append(row_string)\n",
    "    return sorted_grid\n",
    "\n",
    "def convert_rows_to_col(sorted_grid):\n",
    "    sorted_grid_col = []\n",
    "    # Converting rows to columns\n",
    "    for col in range(len(sorted_grid)):\n",
    "        sorted_col = \"\"\n",
    "        for row in range(len(sorted_grid)):\n",
    "            sorted_col += sorted_grid[row][col]\n",
    "        sorted_grid_col.append(sorted_col)\n",
    "    return sorted_grid_col\n",
    "    \n",
    "    # Comparing columns\n",
    "def compare_columns(sorted_grid):\n",
    "    for col in range(len(sorted_grid)):\n",
    "        unordered_col = [ord(x) for x in sorted_grid[0]]\n",
    "        ordered_col = unordered_col.copy()\n",
    "        ordered_col.sort()\n",
    "    for i in range(len(ordered_col)):\n",
    "        if ordered_col[i] != unordered_col[i]:\n",
    "            print(\"NO\")\n",
    "            break\n",
    "    print(\"YES\")\n",
    "\n",
    "#\n",
    "# Complete the 'gridChallenge' function below.\n",
    "#\n",
    "# The function is expected to return a STRING.\n",
    "# The function accepts STRING_ARRAY grid as parameter.\n",
    "#\n",
    "\n",
    "def gridChallenge(grid):\n",
    "    # Write your code here\n",
    "    sort_grid(grid)\n",
    "    compare_columns(convert_rows_to_col(sort_grid(grid)))"
   ]
  },
  {
   "cell_type": "code",
   "execution_count": 73,
   "metadata": {},
   "outputs": [],
   "source": [
    "grid = ['abc', 'ade','efg']"
   ]
  },
  {
   "cell_type": "code",
   "execution_count": 75,
   "metadata": {},
   "outputs": [],
   "source": [
    "grid = ['ebacd','fghij', 'olmkn', 'trpqs', 'xywuv']"
   ]
  },
  {
   "cell_type": "code",
   "execution_count": 77,
   "metadata": {},
   "outputs": [],
   "source": [
    "grid = ['eabcd','fghij','olkmn','trpqs','xywuv']"
   ]
  },
  {
   "cell_type": "code",
   "execution_count": 78,
   "metadata": {},
   "outputs": [
    {
     "name": "stdout",
     "output_type": "stream",
     "text": [
      "YES\n"
     ]
    }
   ],
   "source": [
    "gridChallenge(grid)"
   ]
  }
 ],
 "metadata": {
  "kernelspec": {
   "display_name": "Python 3",
   "language": "python",
   "name": "python3"
  },
  "language_info": {
   "codemirror_mode": {
    "name": "ipython",
    "version": 3
   },
   "file_extension": ".py",
   "mimetype": "text/x-python",
   "name": "python",
   "nbconvert_exporter": "python",
   "pygments_lexer": "ipython3",
   "version": "3.9.6"
  },
  "orig_nbformat": 4
 },
 "nbformat": 4,
 "nbformat_minor": 2
}
