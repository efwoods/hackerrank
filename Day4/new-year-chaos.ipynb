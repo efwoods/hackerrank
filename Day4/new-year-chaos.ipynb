{
 "cells": [
  {
   "cell_type": "markdown",
   "metadata": {},
   "source": [
    "# [New Year Chaos](https://www.hackerrank.com/challenges/one-week-preparation-kit-new-year-chaos/problem?isFullScreen=true&h_l=interview&playlist_slugs%5B%5D=preparation-kits&playlist_slugs%5B%5D=one-week-preparation-kit&playlist_slugs%5B%5D=one-week-day-four)\n"
   ]
  },
  {
   "cell_type": "code",
   "execution_count": 97,
   "metadata": {},
   "outputs": [],
   "source": [
    "#!/bin/python3\n",
    "\n",
    "import math\n",
    "import os\n",
    "import random\n",
    "import re\n",
    "import sys\n",
    "\n",
    "def identify_bribes(q):\n",
    "    bribe_dict = {}\n",
    "    for number in q:\n",
    "        bribe_dict[number] = number - (q.index(number) + 1)\n",
    "    return bribe_dict\n",
    "\n",
    "#\n",
    "# Complete the 'minimumBribes' function below.\n",
    "#\n",
    "# The function accepts INTEGER_ARRAY q as parameter.\n",
    "#\n",
    "\n",
    "def minimumBribes(q):\n",
    "    # Write your code here\n",
    "    bribe_dict = identify_bribes(q)\n",
    "    for k,v in bribe_dict.items():\n",
    "        if bribe_dict[k] > 0 and bribe_dict[k] > 2:\n",
    "            print(\"Too chaotic\")\n",
    "    "
   ]
  },
  {
   "cell_type": "code",
   "execution_count": 98,
   "metadata": {},
   "outputs": [],
   "source": [
    "q = [1,2,3,5,4,6,7,8]"
   ]
  },
  {
   "cell_type": "code",
   "execution_count": 6,
   "metadata": {},
   "outputs": [
    {
     "data": {
      "text/plain": [
       "4"
      ]
     },
     "execution_count": 6,
     "metadata": {},
     "output_type": "execute_result"
    }
   ],
   "source": [
    "q.index(number) + 1"
   ]
  },
  {
   "cell_type": "code",
   "execution_count": 8,
   "metadata": {},
   "outputs": [
    {
     "data": {
      "text/plain": [
       "1"
      ]
     },
     "execution_count": 8,
     "metadata": {},
     "output_type": "execute_result"
    }
   ],
   "source": [
    "number = 5\n",
    "abs(number - (q.index(number) + 1))"
   ]
  },
  {
   "cell_type": "code",
   "execution_count": 11,
   "metadata": {},
   "outputs": [],
   "source": [
    "from random import randint"
   ]
  },
  {
   "cell_type": "code",
   "execution_count": 53,
   "metadata": {},
   "outputs": [],
   "source": [
    "def create_random_test_array(random_number):\n",
    "    random = random_number\n",
    "    q = []\n",
    "    for i in range(random):\n",
    "        candidate = randint(1,random)\n",
    "        if candidate not in set(q):\n",
    "            q.append(candidate)\n",
    "        else:\n",
    "            while candidate in set(q):\n",
    "                candidate = randint(1, random)\n",
    "            else:\n",
    "                q.append(candidate)\n",
    "    return q\n",
    "        "
   ]
  },
  {
   "cell_type": "code",
   "execution_count": 77,
   "metadata": {},
   "outputs": [],
   "source": [
    "def identify_bribes(q):\n",
    "    bribe_dict = {}\n",
    "    for number in q:\n",
    "        bribe_dict[number] = number - (q.index(number) + 1)\n",
    "    return bribe_dict\n",
    "        "
   ]
  },
  {
   "cell_type": "code",
   "execution_count": 94,
   "metadata": {},
   "outputs": [
    {
     "data": {
      "text/plain": [
       "[4, 3, 2, 1]"
      ]
     },
     "execution_count": 94,
     "metadata": {},
     "output_type": "execute_result"
    }
   ],
   "source": [
    "q = create_random_test_array(4)\n",
    "q"
   ]
  },
  {
   "cell_type": "code",
   "execution_count": 95,
   "metadata": {},
   "outputs": [
    {
     "data": {
      "text/plain": [
       "[3, 1, -1, -3]"
      ]
     },
     "execution_count": 95,
     "metadata": {},
     "output_type": "execute_result"
    }
   ],
   "source": [
    "bribe_dict = identify_bribes(q)\n",
    "values = [value for key,value  in bribe_dict.items()]\n",
    "values"
   ]
  },
  {
   "cell_type": "code",
   "execution_count": 83,
   "metadata": {},
   "outputs": [
    {
     "name": "stdout",
     "output_type": "stream",
     "text": [
      "Too chaotic\n"
     ]
    }
   ],
   "source": [
    "for k,v in bribe_dict.items():\n",
    "    if bribe_dict[k] > 0 and bribe_dict[k] > 2:\n",
    "        print(\"Too chaotic\")"
   ]
  }
 ],
 "metadata": {
  "kernelspec": {
   "display_name": "Python 3",
   "language": "python",
   "name": "python3"
  },
  "language_info": {
   "codemirror_mode": {
    "name": "ipython",
    "version": 3
   },
   "file_extension": ".py",
   "mimetype": "text/x-python",
   "name": "python",
   "nbconvert_exporter": "python",
   "pygments_lexer": "ipython3",
   "version": "3.9.6"
  },
  "orig_nbformat": 4
 },
 "nbformat": 4,
 "nbformat_minor": 2
}
