{
 "cells": [
  {
   "cell_type": "markdown",
   "metadata": {},
   "source": [
    "# [Jesse and Cookies](https://www.hackerrank.com/challenges/one-week-preparation-kit-jesse-and-cookies/problem?isFullScreen=true&h_l=interview&playlist_slugs%5B%5D=preparation-kits&playlist_slugs%5B%5D=one-week-preparation-kit&playlist_slugs%5B%5D=one-week-day-six)"
   ]
  },
  {
   "cell_type": "markdown",
   "metadata": {},
   "source": [
    "## Increase Runtime Efficiency as an excercise"
   ]
  },
  {
   "cell_type": "code",
   "execution_count": null,
   "metadata": {},
   "outputs": [],
   "source": [
    "#!/bin/python3\n",
    "\n",
    "import math\n",
    "import os\n",
    "import random\n",
    "import re\n",
    "import sys\n",
    "\n",
    "def mix_cookies(least_sweet_cookie, penultimate_least_sweet_cookie, mixings):\n",
    "    new_cookie = least_sweet_cookie + 2*(penultimate_least_sweet_cookie)\n",
    "    mixings += 1\n",
    "    return new_cookie, mixings\n",
    "\n",
    "#\n",
    "# Complete the 'cookies' function below.\n",
    "#\n",
    "# The function is expected to return an INTEGER.\n",
    "# The function accepts following parameters:\n",
    "#  1. INTEGER k\n",
    "#  2. INTEGER_ARRAY A\n",
    "#\n",
    "\n",
    "def cookies(k, A):\n",
    "    sweetness_threshold = k\n",
    "    cookies_list = A\n",
    "    mixings = 0\n",
    "    smallest_sweetness = min(set(cookies_list))\n",
    "    while smallest_sweetness < sweetness_threshold:\n",
    "        cookies_list.sort()\n",
    "        if len(cookies_list)>1:\n",
    "            two_least_sweet_cookies = cookies_list[:2]\n",
    "            del(cookies_list[:2])\n",
    "            new_cookie, mixings = mix_cookies(two_least_sweet_cookies[0], two_least_sweet_cookies[1], mixings)\n",
    "            cookies_list.append(new_cookie)\n",
    "            smallest_sweetness = min(set(cookies_list))\n",
    "        else:\n",
    "            return(-1)\n",
    "    else:\n",
    "        return(mixings)\n",
    "        # print(\"least sweet cookie: {}\\nsweetness_threshold: {}\\nmixings: {}\".format(smallest_sweetness, sweetness_threshold, mixings))"
   ]
  },
  {
   "cell_type": "code",
   "execution_count": 44,
   "metadata": {},
   "outputs": [],
   "source": [
    "def mix_cookies(least_sweet_cookie, penultimate_least_sweet_cookie, mixings):\n",
    "    new_cookie = least_sweet_cookie + 2*(penultimate_least_sweet_cookie)\n",
    "    mixings += 1\n",
    "    return new_cookie, mixings"
   ]
  },
  {
   "cell_type": "code",
   "execution_count": 53,
   "metadata": {},
   "outputs": [],
   "source": [
    "def cookies(sweetness_threshold, cookies_list):\n",
    "    mixings = 0\n",
    "    smallest_sweetness = min(set(cookies_list))\n",
    "    while smallest_sweetness < sweetness_threshold:\n",
    "        cookies_list.sort()\n",
    "        if len(cookies_list)>1:\n",
    "            two_least_sweet_cookies = cookies_list[:2]\n",
    "            del(cookies_list[:2])\n",
    "            new_cookie, mixings = mix_cookies(two_least_sweet_cookies[0], two_least_sweet_cookies[1], mixings)\n",
    "            cookies_list.append(new_cookie)\n",
    "            smallest_sweetness = min(set(cookies_list))\n",
    "        else:\n",
    "            return(-1)\n",
    "    else:\n",
    "        return(mixings)\n",
    "        print(\"least sweet cookie: {}\\nsweetness_threshold: {}\\nmixings: {}\".format(smallest_sweetness, sweetness_threshold, mixings))\n"
   ]
  }
 ],
 "metadata": {
  "kernelspec": {
   "display_name": "Python 3",
   "language": "python",
   "name": "python3"
  },
  "language_info": {
   "codemirror_mode": {
    "name": "ipython",
    "version": 3
   },
   "file_extension": ".py",
   "mimetype": "text/x-python",
   "name": "python",
   "nbconvert_exporter": "python",
   "pygments_lexer": "ipython3",
   "version": "3.9.6"
  },
  "orig_nbformat": 4
 },
 "nbformat": 4,
 "nbformat_minor": 2
}
