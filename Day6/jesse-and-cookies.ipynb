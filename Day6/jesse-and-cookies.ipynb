{
 "cells": [
  {
   "cell_type": "markdown",
   "metadata": {},
   "source": [
    "# [Jesse and Cookies](https://www.hackerrank.com/challenges/one-week-preparation-kit-jesse-and-cookies/problem?isFullScreen=true&h_l=interview&playlist_slugs%5B%5D=preparation-kits&playlist_slugs%5B%5D=one-week-preparation-kit&playlist_slugs%5B%5D=one-week-day-six)"
   ]
  },
  {
   "cell_type": "code",
   "execution_count": null,
   "metadata": {},
   "outputs": [],
   "source": [
    "#!/bin/python3\n",
    "\n",
    "import math\n",
    "import os\n",
    "import random\n",
    "import re\n",
    "import sys\n",
    "\n",
    "def mix_cookies(least_sweet_cookie, penultimate_least_sweet_cookie, mixings):\n",
    "    new_cookie = least_sweet_cookie + 2*(penultimate_least_sweet_cookie)\n",
    "    mixings += 1\n",
    "    return new_cookie, mixings\n",
    "\n",
    "#\n",
    "# Complete the 'cookies' function below.\n",
    "#\n",
    "# The function is expected to return an INTEGER.\n",
    "# The function accepts following parameters:\n",
    "#  1. INTEGER k\n",
    "#  2. INTEGER_ARRAY A\n",
    "#\n",
    "\n",
    "def cookies(k, A):\n",
    "    sweetness_threshold = k\n",
    "    cookies_list = A\n",
    "    mixings = 0\n",
    "    smallest_sweetness = min(set(cookies_list))\n",
    "    while smallest_sweetness < sweetness_threshold:\n",
    "        cookies_list.sort()\n",
    "        if len(cookies_list)>1:\n",
    "            two_least_sweet_cookies = cookies_list[:2]\n",
    "            del(cookies_list[:2])\n",
    "            new_cookie, mixings = mix_cookies(two_least_sweet_cookies[0], two_least_sweet_cookies[1], mixings)\n",
    "            cookies_list.append(new_cookie)\n",
    "            smallest_sweetness = min(set(cookies_list))\n",
    "        else:\n",
    "            return(-1)\n",
    "    else:\n",
    "        return(mixings)\n",
    "        # print(\"least sweet cookie: {}\\nsweetness_threshold: {}\\nmixings: {}\".format(smallest_sweetness, sweetness_threshold, mixings))"
   ]
  },
  {
   "cell_type": "code",
   "execution_count": 44,
   "metadata": {},
   "outputs": [],
   "source": [
    "def mix_cookies(least_sweet_cookie, penultimate_least_sweet_cookie, mixings):\n",
    "    new_cookie = least_sweet_cookie + 2*(penultimate_least_sweet_cookie)\n",
    "    mixings += 1\n",
    "    return new_cookie, mixings"
   ]
  },
  {
   "cell_type": "code",
   "execution_count": 53,
   "metadata": {},
   "outputs": [],
   "source": [
    "def cookies(sweetness_threshold, cookies_list):\n",
    "    mixings = 0\n",
    "    smallest_sweetness = min(set(cookies_list))\n",
    "    while smallest_sweetness < sweetness_threshold:\n",
    "        cookies_list.sort()\n",
    "        if len(cookies_list)>1:\n",
    "            two_least_sweet_cookies = cookies_list[:2]\n",
    "            del(cookies_list[:2])\n",
    "            new_cookie, mixings = mix_cookies(two_least_sweet_cookies[0], two_least_sweet_cookies[1], mixings)\n",
    "            cookies_list.append(new_cookie)\n",
    "            smallest_sweetness = min(set(cookies_list))\n",
    "        else:\n",
    "            return(-1)\n",
    "    else:\n",
    "        return(mixings)\n",
    "        print(\"least sweet cookie: {}\\nsweetness_threshold: {}\\nmixings: {}\".format(smallest_sweetness, sweetness_threshold, mixings))\n"
   ]
  },
  {
   "cell_type": "code",
   "execution_count": 54,
   "metadata": {},
   "outputs": [],
   "source": [
    "# Example\n",
    "k = 9\n",
    "A = [2,7,3,6,4,6]"
   ]
  },
  {
   "cell_type": "code",
   "execution_count": 55,
   "metadata": {},
   "outputs": [
    {
     "data": {
      "text/plain": [
       "4"
      ]
     },
     "execution_count": 55,
     "metadata": {},
     "output_type": "execute_result"
    }
   ],
   "source": [
    "cookies(k,A)"
   ]
  },
  {
   "cell_type": "code",
   "execution_count": 21,
   "metadata": {},
   "outputs": [
    {
     "data": {
      "text/plain": [
       "2"
      ]
     },
     "execution_count": 21,
     "metadata": {},
     "output_type": "execute_result"
    }
   ],
   "source": [
    "min(set(A))"
   ]
  },
  {
   "cell_type": "code",
   "execution_count": 20,
   "metadata": {},
   "outputs": [
    {
     "data": {
      "text/plain": [
       "2"
      ]
     },
     "execution_count": 20,
     "metadata": {},
     "output_type": "execute_result"
    }
   ],
   "source": [
    "min(set_A)"
   ]
  },
  {
   "cell_type": "code",
   "execution_count": null,
   "metadata": {},
   "outputs": [],
   "source": [
    "def find_smallest_values(arr):\n",
    "    arr.sort()\n",
    "    values = arr[:2]\n",
    "    "
   ]
  },
  {
   "cell_type": "code",
   "execution_count": 8,
   "metadata": {},
   "outputs": [],
   "source": [
    "value = 1"
   ]
  },
  {
   "cell_type": "code",
   "execution_count": 13,
   "metadata": {},
   "outputs": [],
   "source": [
    "def foo(value):\n",
    "    value+=1\n",
    "foo(value)"
   ]
  },
  {
   "cell_type": "code",
   "execution_count": 14,
   "metadata": {},
   "outputs": [
    {
     "data": {
      "text/plain": [
       "1"
      ]
     },
     "execution_count": 14,
     "metadata": {},
     "output_type": "execute_result"
    }
   ],
   "source": [
    "value"
   ]
  },
  {
   "cell_type": "code",
   "execution_count": 5,
   "metadata": {},
   "outputs": [],
   "source": [
    "A.sort()"
   ]
  },
  {
   "cell_type": "code",
   "execution_count": 6,
   "metadata": {},
   "outputs": [
    {
     "data": {
      "text/plain": [
       "[2, 3, 4, 6, 6, 7]"
      ]
     },
     "execution_count": 6,
     "metadata": {},
     "output_type": "execute_result"
    }
   ],
   "source": [
    "A"
   ]
  },
  {
   "cell_type": "code",
   "execution_count": 4,
   "metadata": {},
   "outputs": [
    {
     "data": {
      "text/plain": [
       "[2, 3, 4, 6, 7]"
      ]
     },
     "execution_count": 4,
     "metadata": {},
     "output_type": "execute_result"
    }
   ],
   "source": [
    "[x for x in set(A)]"
   ]
  },
  {
   "cell_type": "code",
   "execution_count": null,
   "metadata": {},
   "outputs": [],
   "source": []
  }
 ],
 "metadata": {
  "kernelspec": {
   "display_name": "Python 3",
   "language": "python",
   "name": "python3"
  },
  "language_info": {
   "codemirror_mode": {
    "name": "ipython",
    "version": 3
   },
   "file_extension": ".py",
   "mimetype": "text/x-python",
   "name": "python",
   "nbconvert_exporter": "python",
   "pygments_lexer": "ipython3",
   "version": "3.9.6"
  },
  "orig_nbformat": 4
 },
 "nbformat": 4,
 "nbformat_minor": 2
}
