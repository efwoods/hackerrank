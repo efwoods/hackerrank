{
 "cells": [
  {
   "cell_type": "markdown",
   "metadata": {},
   "source": [
    "# [Simple Text Editor](https://www.hackerrank.com/challenges/one-week-preparation-kit-simple-text-editor/problem?isFullScreen=true&h_l=interview&playlist_slugs%5B%5D=preparation-kits&playlist_slugs%5B%5D=one-week-preparation-kit&playlist_slugs%5B%5D=one-week-day-six)"
   ]
  },
  {
   "cell_type": "code",
   "execution_count": 451,
   "metadata": {},
   "outputs": [],
   "source": [
    "string_buffer = 'abcde'\n",
    "ops_queue = ['1 fg', '3 6', '2 5' , '4', '3 7', '4', '3 4']"
   ]
  },
  {
   "cell_type": "code",
   "execution_count": 545,
   "metadata": {},
   "outputs": [],
   "source": [
    "class TextEditor():\n",
    "    def __init__(self) -> None:\n",
    "        self.string_buffer = \"\"\n",
    "        # self.string_buffer_prior_state = \"\"\n",
    "        self.ops_list = []\n",
    "        self.flag = 0\n",
    "    \n",
    "    def append(self, w): # 1\n",
    "        # self.string_buffer_prior_state = self.string_buffer\n",
    "        \n",
    "        # self.ops_list.append(self.string_buffer_prior_state)\n",
    "        self.string_buffer += w\n",
    "        if self.flag == 0:\n",
    "            self.ops_list.append([2,w])\n",
    "        else:\n",
    "            self.flag = 0\n",
    "    \n",
    "    def delete(self, k): # 2\n",
    "        # self.string_buffer_prior_state = self.string_buffer\n",
    "        # self.ops_list.append(self.string_buffer_prior_state)\n",
    "        if self.flag == 0:\n",
    "            self.ops_list.append([1,self.string_buffer[-int(k):]])\n",
    "            self.string_buffer = self.string_buffer[:-int(k)]    \n",
    "        else:\n",
    "            \n",
    "            self.string_buffer = self.string_buffer[::-1]\n",
    "            \n",
    "            k = k[::-1]\n",
    "            \n",
    "            length_of_k = len(k)\n",
    "            \n",
    "            found_k_starting_location = self.string_buffer.find(k)\n",
    "            \n",
    "            self.string_buffer = self.string_buffer[(found_k_starting_location+length_of_k):]\n",
    "            self.string_buffer = self.string_buffer[::-1]\n",
    "            self.string_buffer[:found_k_starting_location] + self.string_buffer[found_k_starting_location+length_of_k:]\n",
    "            self.flat = 0\n",
    "\n",
    "        \n",
    "        \n",
    "    def print(self, k): # 3\n",
    "        try:        \n",
    "            print(self.string_buffer[int(k)-1])\n",
    "        except:\n",
    "            pass\n",
    "    \n",
    "    def undo(self): # 4\n",
    "        try:\n",
    "            operation = self.ops_list.pop()\n",
    "            self.flag = 1\n",
    "            self.operate(operation)\n",
    "        except IndexError:\n",
    "            pass\n",
    "            \n",
    "    def operate(self, operation):\n",
    "        instruction = int(operation[0])\n",
    "        if len(operation) > 1:\n",
    "            value = operation[1]\n",
    "        if instruction == 1:\n",
    "            self.append(value)\n",
    "        elif instruction == 2:\n",
    "            self.delete(value)\n",
    "        elif instruction == 3:\n",
    "            print()\n",
    "            self.print(value)\n",
    "        elif instruction == 4:\n",
    "            self.undo()\n",
    "        else:\n",
    "            print(\"error in operate\\noperation: {}\".format(instruction))\n",
    "            exit\n",
    "            \n",
    "    def run(self, ops_list):\n",
    "        instructions = [instruction.split(\" \") for instruction in ops_list]\n",
    "        for instruction_pair in instructions:\n",
    "            self.operate(instruction_pair)"
   ]
  },
  {
   "cell_type": "code",
   "execution_count": 546,
   "metadata": {},
   "outputs": [],
   "source": [
    "editor = TextEditor()"
   ]
  },
  {
   "cell_type": "code",
   "execution_count": 547,
   "metadata": {},
   "outputs": [],
   "source": [
    "editor.string_buffer = 'abcde'"
   ]
  },
  {
   "cell_type": "code",
   "execution_count": 548,
   "metadata": {},
   "outputs": [
    {
     "name": "stdout",
     "output_type": "stream",
     "text": [
      "\n",
      "f\n",
      "\n",
      "g\n",
      "\n",
      "d\n"
     ]
    }
   ],
   "source": [
    "editor.run(ops_queue)"
   ]
  },
  {
   "cell_type": "code",
   "execution_count": 406,
   "metadata": {},
   "outputs": [],
   "source": [
    "ops = ['1 abc', '3 3', '2 3', '1 xy', '3 2', '4', '4', '3 1']"
   ]
  },
  {
   "cell_type": "code",
   "execution_count": 407,
   "metadata": {},
   "outputs": [
    {
     "name": "stdout",
     "output_type": "stream",
     "text": [
      "\n",
      "c\n",
      "\n",
      "b\n"
     ]
    },
    {
     "ename": "ValueError",
     "evalue": "invalid literal for int() with base 10: 'xy'",
     "output_type": "error",
     "traceback": [
      "\u001b[0;31m---------------------------------------------------------------------------\u001b[0m",
      "\u001b[0;31mValueError\u001b[0m                                Traceback (most recent call last)",
      "\u001b[1;32m/Users/evanwoods/Github/hackerrank/Day6/simple-text-editor.ipynb Cell 8\u001b[0m line \u001b[0;36m1\n\u001b[0;32m----> <a href='vscode-notebook-cell:/Users/evanwoods/Github/hackerrank/Day6/simple-text-editor.ipynb#X45sZmlsZQ%3D%3D?line=0'>1</a>\u001b[0m editor\u001b[39m.\u001b[39;49mrun(ops)\n",
      "\u001b[1;32m/Users/evanwoods/Github/hackerrank/Day6/simple-text-editor.ipynb Cell 8\u001b[0m line \u001b[0;36m5\n\u001b[1;32m     <a href='vscode-notebook-cell:/Users/evanwoods/Github/hackerrank/Day6/simple-text-editor.ipynb#X45sZmlsZQ%3D%3D?line=51'>52</a>\u001b[0m instructions \u001b[39m=\u001b[39m [instruction\u001b[39m.\u001b[39msplit(\u001b[39m\"\u001b[39m\u001b[39m \u001b[39m\u001b[39m\"\u001b[39m) \u001b[39mfor\u001b[39;00m instruction \u001b[39min\u001b[39;00m ops_list]\n\u001b[1;32m     <a href='vscode-notebook-cell:/Users/evanwoods/Github/hackerrank/Day6/simple-text-editor.ipynb#X45sZmlsZQ%3D%3D?line=52'>53</a>\u001b[0m \u001b[39mfor\u001b[39;00m instruction_pair \u001b[39min\u001b[39;00m instructions:\n\u001b[0;32m---> <a href='vscode-notebook-cell:/Users/evanwoods/Github/hackerrank/Day6/simple-text-editor.ipynb#X45sZmlsZQ%3D%3D?line=53'>54</a>\u001b[0m     \u001b[39mself\u001b[39;49m\u001b[39m.\u001b[39;49moperate(instruction_pair)\n",
      "\u001b[1;32m/Users/evanwoods/Github/hackerrank/Day6/simple-text-editor.ipynb Cell 8\u001b[0m line \u001b[0;36m4\n\u001b[1;32m     <a href='vscode-notebook-cell:/Users/evanwoods/Github/hackerrank/Day6/simple-text-editor.ipynb#X45sZmlsZQ%3D%3D?line=43'>44</a>\u001b[0m     \u001b[39mself\u001b[39m\u001b[39m.\u001b[39mprint(value)\n\u001b[1;32m     <a href='vscode-notebook-cell:/Users/evanwoods/Github/hackerrank/Day6/simple-text-editor.ipynb#X45sZmlsZQ%3D%3D?line=44'>45</a>\u001b[0m \u001b[39melif\u001b[39;00m instruction \u001b[39m==\u001b[39m \u001b[39m4\u001b[39m:\n\u001b[0;32m---> <a href='vscode-notebook-cell:/Users/evanwoods/Github/hackerrank/Day6/simple-text-editor.ipynb#X45sZmlsZQ%3D%3D?line=45'>46</a>\u001b[0m     \u001b[39mself\u001b[39;49m\u001b[39m.\u001b[39;49mundo()\n\u001b[1;32m     <a href='vscode-notebook-cell:/Users/evanwoods/Github/hackerrank/Day6/simple-text-editor.ipynb#X45sZmlsZQ%3D%3D?line=46'>47</a>\u001b[0m \u001b[39melse\u001b[39;00m:\n\u001b[1;32m     <a href='vscode-notebook-cell:/Users/evanwoods/Github/hackerrank/Day6/simple-text-editor.ipynb#X45sZmlsZQ%3D%3D?line=47'>48</a>\u001b[0m     \u001b[39mprint\u001b[39m(\u001b[39m\"\u001b[39m\u001b[39merror in operate\u001b[39m\u001b[39m\\n\u001b[39;00m\u001b[39moperation: \u001b[39m\u001b[39m{}\u001b[39;00m\u001b[39m\"\u001b[39m\u001b[39m.\u001b[39mformat(instruction))\n",
      "\u001b[1;32m/Users/evanwoods/Github/hackerrank/Day6/simple-text-editor.ipynb Cell 8\u001b[0m line \u001b[0;36m3\n\u001b[1;32m     <a href='vscode-notebook-cell:/Users/evanwoods/Github/hackerrank/Day6/simple-text-editor.ipynb#X45sZmlsZQ%3D%3D?line=27'>28</a>\u001b[0m \u001b[39mtry\u001b[39;00m:\n\u001b[1;32m     <a href='vscode-notebook-cell:/Users/evanwoods/Github/hackerrank/Day6/simple-text-editor.ipynb#X45sZmlsZQ%3D%3D?line=28'>29</a>\u001b[0m     operation \u001b[39m=\u001b[39m \u001b[39mself\u001b[39m\u001b[39m.\u001b[39mops_list\u001b[39m.\u001b[39mpop()\n\u001b[0;32m---> <a href='vscode-notebook-cell:/Users/evanwoods/Github/hackerrank/Day6/simple-text-editor.ipynb#X45sZmlsZQ%3D%3D?line=29'>30</a>\u001b[0m     \u001b[39mself\u001b[39;49m\u001b[39m.\u001b[39;49moperate(operation)\n\u001b[1;32m     <a href='vscode-notebook-cell:/Users/evanwoods/Github/hackerrank/Day6/simple-text-editor.ipynb#X45sZmlsZQ%3D%3D?line=30'>31</a>\u001b[0m \u001b[39mexcept\u001b[39;00m \u001b[39mIndexError\u001b[39;00m:\n\u001b[1;32m     <a href='vscode-notebook-cell:/Users/evanwoods/Github/hackerrank/Day6/simple-text-editor.ipynb#X45sZmlsZQ%3D%3D?line=31'>32</a>\u001b[0m     \u001b[39mpass\u001b[39;00m\n",
      "\u001b[1;32m/Users/evanwoods/Github/hackerrank/Day6/simple-text-editor.ipynb Cell 8\u001b[0m line \u001b[0;36m4\n\u001b[1;32m     <a href='vscode-notebook-cell:/Users/evanwoods/Github/hackerrank/Day6/simple-text-editor.ipynb#X45sZmlsZQ%3D%3D?line=38'>39</a>\u001b[0m     \u001b[39mself\u001b[39m\u001b[39m.\u001b[39mappend(value)\n\u001b[1;32m     <a href='vscode-notebook-cell:/Users/evanwoods/Github/hackerrank/Day6/simple-text-editor.ipynb#X45sZmlsZQ%3D%3D?line=39'>40</a>\u001b[0m \u001b[39melif\u001b[39;00m instruction \u001b[39m==\u001b[39m \u001b[39m2\u001b[39m:\n\u001b[0;32m---> <a href='vscode-notebook-cell:/Users/evanwoods/Github/hackerrank/Day6/simple-text-editor.ipynb#X45sZmlsZQ%3D%3D?line=40'>41</a>\u001b[0m     \u001b[39mself\u001b[39;49m\u001b[39m.\u001b[39;49mdelete(value)\n\u001b[1;32m     <a href='vscode-notebook-cell:/Users/evanwoods/Github/hackerrank/Day6/simple-text-editor.ipynb#X45sZmlsZQ%3D%3D?line=41'>42</a>\u001b[0m \u001b[39melif\u001b[39;00m instruction \u001b[39m==\u001b[39m \u001b[39m3\u001b[39m:\n\u001b[1;32m     <a href='vscode-notebook-cell:/Users/evanwoods/Github/hackerrank/Day6/simple-text-editor.ipynb#X45sZmlsZQ%3D%3D?line=42'>43</a>\u001b[0m     \u001b[39mprint\u001b[39m()\n",
      "\u001b[1;32m/Users/evanwoods/Github/hackerrank/Day6/simple-text-editor.ipynb Cell 8\u001b[0m line \u001b[0;36m1\n\u001b[1;32m     <a href='vscode-notebook-cell:/Users/evanwoods/Github/hackerrank/Day6/simple-text-editor.ipynb#X45sZmlsZQ%3D%3D?line=13'>14</a>\u001b[0m \u001b[39mdef\u001b[39;00m \u001b[39mdelete\u001b[39m(\u001b[39mself\u001b[39m, k): \u001b[39m# 2\u001b[39;00m\n\u001b[1;32m     <a href='vscode-notebook-cell:/Users/evanwoods/Github/hackerrank/Day6/simple-text-editor.ipynb#X45sZmlsZQ%3D%3D?line=14'>15</a>\u001b[0m     \u001b[39m# self.string_buffer_prior_state = self.string_buffer\u001b[39;00m\n\u001b[1;32m     <a href='vscode-notebook-cell:/Users/evanwoods/Github/hackerrank/Day6/simple-text-editor.ipynb#X45sZmlsZQ%3D%3D?line=15'>16</a>\u001b[0m     \u001b[39m# self.ops_list.append(self.string_buffer_prior_state)\u001b[39;00m\n\u001b[0;32m---> <a href='vscode-notebook-cell:/Users/evanwoods/Github/hackerrank/Day6/simple-text-editor.ipynb#X45sZmlsZQ%3D%3D?line=16'>17</a>\u001b[0m     \u001b[39mself\u001b[39m\u001b[39m.\u001b[39mops_list\u001b[39m.\u001b[39mappend([\u001b[39m1\u001b[39m,\u001b[39mself\u001b[39m\u001b[39m.\u001b[39mstring_buffer[\u001b[39m-\u001b[39m\u001b[39mint\u001b[39;49m(k):]])\n\u001b[1;32m     <a href='vscode-notebook-cell:/Users/evanwoods/Github/hackerrank/Day6/simple-text-editor.ipynb#X45sZmlsZQ%3D%3D?line=17'>18</a>\u001b[0m     \u001b[39mself\u001b[39m\u001b[39m.\u001b[39mstring_buffer \u001b[39m=\u001b[39m \u001b[39mself\u001b[39m\u001b[39m.\u001b[39mstring_buffer[:\u001b[39m-\u001b[39m\u001b[39mint\u001b[39m(k)]\n",
      "\u001b[0;31mValueError\u001b[0m: invalid literal for int() with base 10: 'xy'"
     ]
    }
   ],
   "source": [
    "editor.run(ops)"
   ]
  },
  {
   "cell_type": "code",
   "execution_count": 459,
   "metadata": {},
   "outputs": [],
   "source": [
    "instructions = [instruction.split(\" \") for instruction in ops_queue]"
   ]
  },
  {
   "cell_type": "code",
   "execution_count": 480,
   "metadata": {},
   "outputs": [
    {
     "data": {
      "text/plain": [
       "['4']"
      ]
     },
     "execution_count": 480,
     "metadata": {},
     "output_type": "execute_result"
    }
   ],
   "source": [
    "current_instruction = instructions[5]\n",
    "current_instruction"
   ]
  },
  {
   "cell_type": "code",
   "execution_count": 481,
   "metadata": {},
   "outputs": [
    {
     "ename": "ValueError",
     "evalue": "invalid literal for int() with base 10: 'fg'",
     "output_type": "error",
     "traceback": [
      "\u001b[0;31m---------------------------------------------------------------------------\u001b[0m",
      "\u001b[0;31mValueError\u001b[0m                                Traceback (most recent call last)",
      "\u001b[1;32m/Users/evanwoods/Github/hackerrank/Day6/simple-text-editor.ipynb Cell 11\u001b[0m line \u001b[0;36m1\n\u001b[0;32m----> <a href='vscode-notebook-cell:/Users/evanwoods/Github/hackerrank/Day6/simple-text-editor.ipynb#X46sZmlsZQ%3D%3D?line=0'>1</a>\u001b[0m editor\u001b[39m.\u001b[39;49moperate(current_instruction)\n",
      "\u001b[1;32m/Users/evanwoods/Github/hackerrank/Day6/simple-text-editor.ipynb Cell 11\u001b[0m line \u001b[0;36m5\n\u001b[1;32m     <a href='vscode-notebook-cell:/Users/evanwoods/Github/hackerrank/Day6/simple-text-editor.ipynb#X46sZmlsZQ%3D%3D?line=51'>52</a>\u001b[0m     \u001b[39mself\u001b[39m\u001b[39m.\u001b[39mprint(value)\n\u001b[1;32m     <a href='vscode-notebook-cell:/Users/evanwoods/Github/hackerrank/Day6/simple-text-editor.ipynb#X46sZmlsZQ%3D%3D?line=52'>53</a>\u001b[0m \u001b[39melif\u001b[39;00m instruction \u001b[39m==\u001b[39m \u001b[39m4\u001b[39m:\n\u001b[0;32m---> <a href='vscode-notebook-cell:/Users/evanwoods/Github/hackerrank/Day6/simple-text-editor.ipynb#X46sZmlsZQ%3D%3D?line=53'>54</a>\u001b[0m     \u001b[39mself\u001b[39;49m\u001b[39m.\u001b[39;49mundo()\n\u001b[1;32m     <a href='vscode-notebook-cell:/Users/evanwoods/Github/hackerrank/Day6/simple-text-editor.ipynb#X46sZmlsZQ%3D%3D?line=54'>55</a>\u001b[0m \u001b[39melse\u001b[39;00m:\n\u001b[1;32m     <a href='vscode-notebook-cell:/Users/evanwoods/Github/hackerrank/Day6/simple-text-editor.ipynb#X46sZmlsZQ%3D%3D?line=55'>56</a>\u001b[0m     \u001b[39mprint\u001b[39m(\u001b[39m\"\u001b[39m\u001b[39merror in operate\u001b[39m\u001b[39m\\n\u001b[39;00m\u001b[39moperation: \u001b[39m\u001b[39m{}\u001b[39;00m\u001b[39m\"\u001b[39m\u001b[39m.\u001b[39mformat(instruction))\n",
      "\u001b[1;32m/Users/evanwoods/Github/hackerrank/Day6/simple-text-editor.ipynb Cell 11\u001b[0m line \u001b[0;36m3\n\u001b[1;32m     <a href='vscode-notebook-cell:/Users/evanwoods/Github/hackerrank/Day6/simple-text-editor.ipynb#X46sZmlsZQ%3D%3D?line=35'>36</a>\u001b[0m     operation \u001b[39m=\u001b[39m \u001b[39mself\u001b[39m\u001b[39m.\u001b[39mops_list\u001b[39m.\u001b[39mpop()\n\u001b[1;32m     <a href='vscode-notebook-cell:/Users/evanwoods/Github/hackerrank/Day6/simple-text-editor.ipynb#X46sZmlsZQ%3D%3D?line=36'>37</a>\u001b[0m     \u001b[39mself\u001b[39m\u001b[39m.\u001b[39mflag \u001b[39m=\u001b[39m \u001b[39m1\u001b[39m\n\u001b[0;32m---> <a href='vscode-notebook-cell:/Users/evanwoods/Github/hackerrank/Day6/simple-text-editor.ipynb#X46sZmlsZQ%3D%3D?line=37'>38</a>\u001b[0m     \u001b[39mself\u001b[39;49m\u001b[39m.\u001b[39;49moperate(operation)\n\u001b[1;32m     <a href='vscode-notebook-cell:/Users/evanwoods/Github/hackerrank/Day6/simple-text-editor.ipynb#X46sZmlsZQ%3D%3D?line=38'>39</a>\u001b[0m \u001b[39mexcept\u001b[39;00m \u001b[39mIndexError\u001b[39;00m:\n\u001b[1;32m     <a href='vscode-notebook-cell:/Users/evanwoods/Github/hackerrank/Day6/simple-text-editor.ipynb#X46sZmlsZQ%3D%3D?line=39'>40</a>\u001b[0m     \u001b[39mpass\u001b[39;00m\n",
      "\u001b[1;32m/Users/evanwoods/Github/hackerrank/Day6/simple-text-editor.ipynb Cell 11\u001b[0m line \u001b[0;36m4\n\u001b[1;32m     <a href='vscode-notebook-cell:/Users/evanwoods/Github/hackerrank/Day6/simple-text-editor.ipynb#X46sZmlsZQ%3D%3D?line=46'>47</a>\u001b[0m     \u001b[39mself\u001b[39m\u001b[39m.\u001b[39mappend(value)\n\u001b[1;32m     <a href='vscode-notebook-cell:/Users/evanwoods/Github/hackerrank/Day6/simple-text-editor.ipynb#X46sZmlsZQ%3D%3D?line=47'>48</a>\u001b[0m \u001b[39melif\u001b[39;00m instruction \u001b[39m==\u001b[39m \u001b[39m2\u001b[39m:\n\u001b[0;32m---> <a href='vscode-notebook-cell:/Users/evanwoods/Github/hackerrank/Day6/simple-text-editor.ipynb#X46sZmlsZQ%3D%3D?line=48'>49</a>\u001b[0m     \u001b[39mself\u001b[39;49m\u001b[39m.\u001b[39;49mdelete(value)\n\u001b[1;32m     <a href='vscode-notebook-cell:/Users/evanwoods/Github/hackerrank/Day6/simple-text-editor.ipynb#X46sZmlsZQ%3D%3D?line=49'>50</a>\u001b[0m \u001b[39melif\u001b[39;00m instruction \u001b[39m==\u001b[39m \u001b[39m3\u001b[39m:\n\u001b[1;32m     <a href='vscode-notebook-cell:/Users/evanwoods/Github/hackerrank/Day6/simple-text-editor.ipynb#X46sZmlsZQ%3D%3D?line=50'>51</a>\u001b[0m     \u001b[39mprint\u001b[39m()\n",
      "\u001b[1;32m/Users/evanwoods/Github/hackerrank/Day6/simple-text-editor.ipynb Cell 11\u001b[0m line \u001b[0;36m2\n\u001b[1;32m     <a href='vscode-notebook-cell:/Users/evanwoods/Github/hackerrank/Day6/simple-text-editor.ipynb#X46sZmlsZQ%3D%3D?line=22'>23</a>\u001b[0m \u001b[39melse\u001b[39;00m:\n\u001b[1;32m     <a href='vscode-notebook-cell:/Users/evanwoods/Github/hackerrank/Day6/simple-text-editor.ipynb#X46sZmlsZQ%3D%3D?line=23'>24</a>\u001b[0m     \u001b[39mself\u001b[39m\u001b[39m.\u001b[39mflag \u001b[39m=\u001b[39m \u001b[39m0\u001b[39m\n\u001b[0;32m---> <a href='vscode-notebook-cell:/Users/evanwoods/Github/hackerrank/Day6/simple-text-editor.ipynb#X46sZmlsZQ%3D%3D?line=24'>25</a>\u001b[0m \u001b[39mself\u001b[39m\u001b[39m.\u001b[39mstring_buffer \u001b[39m=\u001b[39m \u001b[39mself\u001b[39m\u001b[39m.\u001b[39mstring_buffer[:\u001b[39m-\u001b[39m\u001b[39mint\u001b[39;49m(k)]\n",
      "\u001b[0;31mValueError\u001b[0m: invalid literal for int() with base 10: 'fg'"
     ]
    }
   ],
   "source": [
    "editor.operate(current_instruction)"
   ]
  },
  {
   "cell_type": "code",
   "execution_count": 484,
   "metadata": {},
   "outputs": [
    {
     "data": {
      "text/plain": [
       "'abcdefg'"
      ]
     },
     "execution_count": 484,
     "metadata": {},
     "output_type": "execute_result"
    }
   ],
   "source": [
    "editor.string_buffer"
   ]
  },
  {
   "cell_type": "code",
   "execution_count": 483,
   "metadata": {},
   "outputs": [
    {
     "data": {
      "text/plain": [
       "[]"
      ]
     },
     "execution_count": 483,
     "metadata": {},
     "output_type": "execute_result"
    }
   ],
   "source": [
    "editor.ops_list"
   ]
  },
  {
   "cell_type": "code",
   "execution_count": 515,
   "metadata": {},
   "outputs": [],
   "source": [
    "self.string_buffer = \"abcdfgefg\""
   ]
  },
  {
   "cell_type": "code",
   "execution_count": 516,
   "metadata": {},
   "outputs": [],
   "source": [
    "k = \"fg\""
   ]
  },
  {
   "cell_type": "code",
   "execution_count": 517,
   "metadata": {},
   "outputs": [
    {
     "data": {
      "text/plain": [
       "'gfegfdcba'"
      ]
     },
     "execution_count": 517,
     "metadata": {},
     "output_type": "execute_result"
    }
   ],
   "source": [
    "self.string_buffer = self.string_buffer[::-1]\n",
    "self.string_buffer\n",
    "k = k[::-1]\n",
    "k\n",
    "length_of_k = len(k)\n",
    "length_of_k\n",
    "found_k_starting_location = self.string_buffer.find(k)\n",
    "found_k_starting_location\n",
    "self.string_buffer = self.string_buffer[(found_k_starting_location+length_of_k):]\n",
    "self.string_buffer = self.string_buffer[::-1]\n",
    "self.string_buffer"
   ]
  },
  {
   "cell_type": "code",
   "execution_count": 518,
   "metadata": {},
   "outputs": [
    {
     "data": {
      "text/plain": [
       "'gf'"
      ]
     },
     "execution_count": 518,
     "metadata": {},
     "output_type": "execute_result"
    }
   ],
   "source": [
    "k = k[::-1]\n",
    "k\n",
    "length_of_k = len(k)\n",
    "length_of_k\n",
    "found_k_starting_location = self.string_buffer.find(k)\n",
    "found_k_starting_location\n",
    "self.string_buffer = self.string_buffer[(found_k_starting_location+length_of_k):]\n",
    "self.string_buffer = self.string_buffer[::-1]\n",
    "self.string_buffer"
   ]
  },
  {
   "cell_type": "code",
   "execution_count": 519,
   "metadata": {},
   "outputs": [
    {
     "data": {
      "text/plain": [
       "2"
      ]
     },
     "execution_count": 519,
     "metadata": {},
     "output_type": "execute_result"
    }
   ],
   "source": [
    "length_of_k = len(k)\n",
    "length_of_k\n",
    "found_k_starting_location = self.string_buffer.find(k)\n",
    "found_k_starting_location\n",
    "self.string_buffer = self.string_buffer[(found_k_starting_location+length_of_k):]\n",
    "self.string_buffer = self.string_buffer[::-1]\n",
    "self.string_buffer"
   ]
  },
  {
   "cell_type": "code",
   "execution_count": 520,
   "metadata": {},
   "outputs": [
    {
     "data": {
      "text/plain": [
       "0"
      ]
     },
     "execution_count": 520,
     "metadata": {},
     "output_type": "execute_result"
    }
   ],
   "source": [
    "found_k_starting_location = self.string_buffer.find(k)\n",
    "found_k_starting_location\n",
    "self.string_buffer = self.string_buffer[(found_k_starting_location+length_of_k):]\n",
    "self.string_buffer = self.string_buffer[::-1]\n",
    "self.string_buffer"
   ]
  },
  {
   "cell_type": "code",
   "execution_count": 521,
   "metadata": {},
   "outputs": [],
   "source": [
    "self.string_buffer = self.string_buffer[(found_k_starting_location+length_of_k):]\n",
    "self.string_buffer = self.string_buffer[::-1]\n",
    "self.string_buffer"
   ]
  },
  {
   "cell_type": "code",
   "execution_count": 523,
   "metadata": {},
   "outputs": [
    {
     "data": {
      "text/plain": [
       "'abcdfge'"
      ]
     },
     "execution_count": 523,
     "metadata": {},
     "output_type": "execute_result"
    }
   ],
   "source": [
    "self.string_buffer = self.string_buffer[::-1]\n",
    "self.string_buffer"
   ]
  },
  {
   "cell_type": "code",
   "execution_count": 488,
   "metadata": {},
   "outputs": [
    {
     "data": {
      "text/plain": [
       "'fg'"
      ]
     },
     "execution_count": 488,
     "metadata": {},
     "output_type": "execute_result"
    }
   ],
   "source": [
    "self.string_buffer[4:6]"
   ]
  },
  {
   "cell_type": "code",
   "execution_count": 489,
   "metadata": {},
   "outputs": [
    {
     "data": {
      "text/plain": [
       "'abcde'"
      ]
     },
     "execution_count": 489,
     "metadata": {},
     "output_type": "execute_result"
    }
   ],
   "source": [
    "self.string_buffer.replace('fg', \"\")"
   ]
  },
  {
   "cell_type": "code",
   "execution_count": 524,
   "metadata": {},
   "outputs": [],
   "source": [
    "string_thing = \"asdfgabc\""
   ]
  },
  {
   "cell_type": "code",
   "execution_count": 526,
   "metadata": {},
   "outputs": [],
   "source": [
    "string_to_find = \"fg\""
   ]
  },
  {
   "cell_type": "code",
   "execution_count": 527,
   "metadata": {},
   "outputs": [],
   "source": [
    "string_thing = string_thing[::-1]"
   ]
  },
  {
   "cell_type": "code",
   "execution_count": 529,
   "metadata": {},
   "outputs": [],
   "source": [
    "string_to_find = string_to_find[::-1]"
   ]
  },
  {
   "cell_type": "code",
   "execution_count": 530,
   "metadata": {},
   "outputs": [
    {
     "data": {
      "text/plain": [
       "3"
      ]
     },
     "execution_count": 530,
     "metadata": {},
     "output_type": "execute_result"
    }
   ],
   "source": [
    "initial_string_to_find_location = string_thing.find(string_to_find)\n",
    "initial_string_to_find_location"
   ]
  },
  {
   "cell_type": "code",
   "execution_count": 534,
   "metadata": {},
   "outputs": [
    {
     "data": {
      "text/plain": [
       "2"
      ]
     },
     "execution_count": 534,
     "metadata": {},
     "output_type": "execute_result"
    }
   ],
   "source": [
    "length_of_string_to_find = len(string_to_find)\n",
    "length_of_string_to_find"
   ]
  },
  {
   "cell_type": "code",
   "execution_count": null,
   "metadata": {},
   "outputs": [],
   "source": [
    "string_thing[initial_string_to_find_location+length_of_string_to_find]"
   ]
  },
  {
   "cell_type": "code",
   "execution_count": 537,
   "metadata": {},
   "outputs": [
    {
     "data": {
      "text/plain": [
       "'cbagfdsa'"
      ]
     },
     "execution_count": 537,
     "metadata": {},
     "output_type": "execute_result"
    }
   ],
   "source": [
    "string_thing"
   ]
  },
  {
   "cell_type": "code",
   "execution_count": 544,
   "metadata": {},
   "outputs": [
    {
     "data": {
      "text/plain": [
       "'cbadsa'"
      ]
     },
     "execution_count": 544,
     "metadata": {},
     "output_type": "execute_result"
    }
   ],
   "source": [
    "string_thing[:initial_string_to_find_location] + string_thing[initial_string_to_find_location+length_of_string_to_find:]"
   ]
  },
  {
   "cell_type": "code",
   "execution_count": 536,
   "metadata": {},
   "outputs": [
    {
     "data": {
      "text/plain": [
       "'g'"
      ]
     },
     "execution_count": 536,
     "metadata": {},
     "output_type": "execute_result"
    }
   ],
   "source": [
    "string_thing[initial_string_to_find_location]"
   ]
  },
  {
   "cell_type": "code",
   "execution_count": 539,
   "metadata": {},
   "outputs": [
    {
     "data": {
      "text/plain": [
       "''"
      ]
     },
     "execution_count": 539,
     "metadata": {},
     "output_type": "execute_result"
    }
   ],
   "source": [
    "string_thing[:-len(string_thing)-length_of_string_to_find]"
   ]
  },
  {
   "cell_type": "code",
   "execution_count": 542,
   "metadata": {},
   "outputs": [
    {
     "data": {
      "text/plain": [
       "5"
      ]
     },
     "execution_count": 542,
     "metadata": {},
     "output_type": "execute_result"
    }
   ],
   "source": [
    "initial_string_to_find_location+length_of_string_to_find\n"
   ]
  },
  {
   "cell_type": "code",
   "execution_count": 543,
   "metadata": {},
   "outputs": [
    {
     "data": {
      "text/plain": [
       "'dsa'"
      ]
     },
     "execution_count": 543,
     "metadata": {},
     "output_type": "execute_result"
    }
   ],
   "source": [
    "string_thing[initial_string_to_find_location+length_of_string_to_find:]"
   ]
  },
  {
   "cell_type": "code",
   "execution_count": 540,
   "metadata": {},
   "outputs": [
    {
     "data": {
      "text/plain": [
       "8"
      ]
     },
     "execution_count": 540,
     "metadata": {},
     "output_type": "execute_result"
    }
   ],
   "source": [
    "len(string_thing)"
   ]
  },
  {
   "cell_type": "code",
   "execution_count": null,
   "metadata": {},
   "outputs": [],
   "source": []
  }
 ],
 "metadata": {
  "kernelspec": {
   "display_name": "Python 3",
   "language": "python",
   "name": "python3"
  },
  "language_info": {
   "codemirror_mode": {
    "name": "ipython",
    "version": 3
   },
   "file_extension": ".py",
   "mimetype": "text/x-python",
   "name": "python",
   "nbconvert_exporter": "python",
   "pygments_lexer": "ipython3",
   "version": "3.9.6"
  },
  "orig_nbformat": 4
 },
 "nbformat": 4,
 "nbformat_minor": 2
}
