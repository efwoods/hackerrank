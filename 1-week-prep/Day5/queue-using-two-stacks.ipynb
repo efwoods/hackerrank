{
 "cells": [
  {
   "cell_type": "code",
   "execution_count": 125,
   "metadata": {},
   "outputs": [],
   "source": [
    "class Queue: \n",
    "    queue = []\n",
    "    def query(self, query_type, *x):\n",
    "        if int(query_type) == 1:\n",
    "            self.enqueue(x)\n",
    "        if int(query_type) == 2:\n",
    "            self.dequeue()\n",
    "        if (query_type) == 3:\n",
    "            self.print_element()\n",
    "        \n",
    "    def enqueue(self, tuple_x):\n",
    "        if type(tuple_x) == tuple:\n",
    "            try:\n",
    "                if len(tuple_x) == 2:\n",
    "                    val = tuple_x[1]\n",
    "                else:\n",
    "                    val = tuple_x[0]\n",
    "            except:\n",
    "                print(\"Len of tuple_x: {}\".format(len(tuple_x)))\n",
    "                print(\"tuple_x: {}\".format(tuple_x))\n",
    "        elif type(tuple_x) == int:\n",
    "            val = tuple_x\n",
    "        else:\n",
    "            print(\"error in input tuple typecasting\")\n",
    "            exit\n",
    "        self.queue.append(val)\n",
    "    \n",
    "    def dequeue(self):\n",
    "        try: \n",
    "            temp_queue = self.queue[::-1]\n",
    "            result = temp_queue.pop()\n",
    "            del(self.queue[0])\n",
    "            result\n",
    "        except IndexError:\n",
    "            pass\n",
    "\n",
    "    def print_element(self):\n",
    "        try:\n",
    "            print(\"{}\".format(int(self.queue[0])))\n",
    "        except IndexError:\n",
    "            print(\"\")\n",
    "\n",
    "# query driver code:\n",
    "def query_driver(num_of_queries):\n",
    "    if type(num_of_queries) == str:\n",
    "        num_of_queries = int(num_of_queries)\n",
    "    queue = Queue()\n",
    "    response = []\n",
    "    for i in range(int(num_of_queries)):\n",
    "        buffer = input(\"Enter query\")\n",
    "        query = buffer.split(\" \")\n",
    "        if len(query) == 2:\n",
    "            queue.query(int(query[0]), int(query[1]))\n",
    "        else:\n",
    "            queue.query(int(query[0]))        "
   ]
  },
  {
   "cell_type": "markdown",
   "metadata": {},
   "source": [
    "## Tests"
   ]
  },
  {
   "cell_type": "code",
   "execution_count": 126,
   "metadata": {},
   "outputs": [],
   "source": [
    "queue = Queue()"
   ]
  },
  {
   "cell_type": "code",
   "execution_count": 127,
   "metadata": {},
   "outputs": [
    {
     "name": "stdout",
     "output_type": "stream",
     "text": [
      "\n"
     ]
    }
   ],
   "source": [
    "# Manual input test\n",
    "query_driver(input(\"Enter the Number of Queries\"))"
   ]
  },
  {
   "cell_type": "code",
   "execution_count": 128,
   "metadata": {},
   "outputs": [
    {
     "name": "stdout",
     "output_type": "stream",
     "text": [
      "14\n",
      "14\n"
     ]
    }
   ],
   "source": [
    "queue.query(1, 42)\n",
    "queue.query(2)\n",
    "queue.query(1,14)\n",
    "queue.query(3)\n",
    "queue.query(1,28)\n",
    "queue.query(3)\n",
    "queue.query(1,60)\n",
    "queue.query(1,78)\n",
    "queue.query(2)\n",
    "queue.query(2)"
   ]
  }
 ],
 "metadata": {
  "kernelspec": {
   "display_name": "Python 3",
   "language": "python",
   "name": "python3"
  },
  "language_info": {
   "codemirror_mode": {
    "name": "ipython",
    "version": 3
   },
   "file_extension": ".py",
   "mimetype": "text/x-python",
   "name": "python",
   "nbconvert_exporter": "python",
   "pygments_lexer": "ipython3",
   "version": "3.9.6"
  },
  "orig_nbformat": 4
 },
 "nbformat": 4,
 "nbformat_minor": 2
}
