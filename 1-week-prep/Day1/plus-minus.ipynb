{
 "cells": [
  {
   "cell_type": "markdown",
   "metadata": {},
   "source": [
    "[Plus Minus](https://www.hackerrank.com/challenges/one-week-preparation-kit-plus-minus/problem?isFullScreen=true&h_l=interview&playlist_slugs%5B%5D=preparation-kits&playlist_slugs%5B%5D=one-week-preparation-kit&playlist_slugs%5B%5D=one-week-day-one)"
   ]
  },
  {
   "cell_type": "code",
   "execution_count": 29,
   "metadata": {},
   "outputs": [],
   "source": [
    "#!/bin/python3\n",
    "\n",
    "import math\n",
    "import os\n",
    "import random\n",
    "import re\n",
    "import sys\n",
    "\n",
    "#\n",
    "# Complete the 'plusMinus' function below.\n",
    "#\n",
    "# The function accepts INTEGER_arr arr as parameter.\n",
    "#\n",
    "\n",
    "def plusMinus(arr):\n",
    "    # Write your code here\n",
    "    counts = {\"positive\":0, \"zero\":0, \"negative\":0}\n",
    "    for index in arr:\n",
    "        if index > 0:\n",
    "            counts['positive'] += 1\n",
    "        elif index < 0:\n",
    "            counts['negative'] += 1\n",
    "        else:\n",
    "            counts['zero'] += 1\n",
    "    \n",
    "    total = len(arr)\n",
    "    \n",
    "    proportion_of_positive_values = counts['positive']/total\n",
    "    proportion_of_negative_values = counts['negative']/total\n",
    "    proportion_of_zero_values = counts['zero']/total\n",
    "    \n",
    "    print(\"{:.6f}\".format(proportion_of_positive_values))\n",
    "    print(\"{:.6f}\".format(proportion_of_negative_values))\n",
    "    print(\"{:.6f}\".format(proportion_of_zero_values))"
   ]
  },
  {
   "cell_type": "code",
   "execution_count": 5,
   "metadata": {},
   "outputs": [],
   "source": [
    "counts = {\"positive\":0, \"zero\":0, \"negative\":0}"
   ]
  },
  {
   "cell_type": "code",
   "execution_count": 7,
   "metadata": {},
   "outputs": [
    {
     "data": {
      "text/plain": [
       "0"
      ]
     },
     "execution_count": 7,
     "metadata": {},
     "output_type": "execute_result"
    }
   ],
   "source": [
    "counts['positive']"
   ]
  },
  {
   "cell_type": "code",
   "execution_count": 11,
   "metadata": {},
   "outputs": [],
   "source": [
    "arr = [1, 1, 0, -1, -1]"
   ]
  },
  {
   "cell_type": "code",
   "execution_count": 20,
   "metadata": {},
   "outputs": [],
   "source": [
    "arr = [-4, 3, -9, 0, 4, 1]"
   ]
  },
  {
   "cell_type": "code",
   "execution_count": 21,
   "metadata": {},
   "outputs": [],
   "source": [
    "counts = {\"positive\":0, \"zero\":0, \"negative\":0}\n",
    "for index in arr:\n",
    "    if index > 0:\n",
    "        counts['positive'] += 1\n",
    "    elif index < 0:\n",
    "        counts['negative'] += 1\n",
    "    else:\n",
    "        counts['zero'] += 1\n",
    "\n",
    "total = len(arr)\n",
    "\n",
    "proportion_of_positive_values = counts['positive']/total\n",
    "proportion_of_negative_values = counts['negative']/total\n",
    "proportion_of_zero_values = counts['zero']/total"
   ]
  },
  {
   "cell_type": "code",
   "execution_count": 22,
   "metadata": {},
   "outputs": [
    {
     "name": "stdout",
     "output_type": "stream",
     "text": [
      "proportion of positive values: 0.500000\n",
      "proportion of negative values: 0.333333\n",
      "proportion of zero values: 0.166667\n"
     ]
    }
   ],
   "source": [
    "print(\"proportion of positive values: {:.6f}\".format(proportion_of_positive_values))\n",
    "print(\"proportion of negative values: {:.6f}\".format(proportion_of_negative_values))\n",
    "print(\"proportion of zero values: {:.6f}\".format(proportion_of_zero_values))"
   ]
  },
  {
   "cell_type": "code",
   "execution_count": 28,
   "metadata": {},
   "outputs": [
    {
     "name": "stdout",
     "output_type": "stream",
     "text": [
      "proportion of positive values: 0.500000\n"
     ]
    }
   ],
   "source": [
    "plusMinus(arr)"
   ]
  },
  {
   "cell_type": "code",
   "execution_count": null,
   "metadata": {},
   "outputs": [],
   "source": []
  }
 ],
 "metadata": {
  "kernelspec": {
   "display_name": "Python 3",
   "language": "python",
   "name": "python3"
  },
  "language_info": {
   "codemirror_mode": {
    "name": "ipython",
    "version": 3
   },
   "file_extension": ".py",
   "mimetype": "text/x-python",
   "name": "python",
   "nbconvert_exporter": "python",
   "pygments_lexer": "ipython3",
   "version": "3.9.6"
  },
  "orig_nbformat": 4
 },
 "nbformat": 4,
 "nbformat_minor": 2
}
