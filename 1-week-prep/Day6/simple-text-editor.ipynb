{
 "cells": [
  {
   "cell_type": "markdown",
   "metadata": {},
   "source": [
    "# [Simple Text Editor](https://www.hackerrank.com/challenges/one-week-preparation-kit-simple-text-editor/problem?isFullScreen=true&h_l=interview&playlist_slugs%5B%5D=preparation-kits&playlist_slugs%5B%5D=one-week-preparation-kit&playlist_slugs%5B%5D=one-week-day-six)"
   ]
  },
  {
   "cell_type": "code",
   "execution_count": 451,
   "metadata": {},
   "outputs": [],
   "source": [
    "string_buffer = 'abcde'\n",
    "ops_queue = ['1 fg', '3 6', '2 5' , '4', '3 7', '4', '3 4']"
   ]
  },
  {
   "cell_type": "code",
   "execution_count": 551,
   "metadata": {},
   "outputs": [],
   "source": [
    "class TextEditor():\n",
    "    def __init__(self) -> None:\n",
    "        self.string_buffer = \"\"\n",
    "        # self.string_buffer_prior_state = \"\"\n",
    "        self.ops_list = []\n",
    "        self.flag = 0\n",
    "    \n",
    "    def append(self, w): # 1\n",
    "        # self.string_buffer_prior_state = self.string_buffer\n",
    "        \n",
    "        # self.ops_list.append(self.string_buffer_prior_state)\n",
    "        self.string_buffer += w\n",
    "        if self.flag == 0:\n",
    "            self.ops_list.append([2,w])\n",
    "        else:\n",
    "            self.flag = 0\n",
    "    \n",
    "    def delete(self, k): # 2\n",
    "        # self.string_buffer_prior_state = self.string_buffer\n",
    "        # self.ops_list.append(self.string_buffer_prior_state)\n",
    "        if self.flag == 0:\n",
    "            self.ops_list.append([1,self.string_buffer[-int(k):]])\n",
    "            self.string_buffer = self.string_buffer[:-int(k)]    \n",
    "        else:\n",
    "            \n",
    "            self.string_buffer = self.string_buffer[::-1]\n",
    "            \n",
    "            k = k[::-1]\n",
    "            \n",
    "            length_of_k = len(k)\n",
    "            \n",
    "            found_k_starting_location = self.string_buffer.find(k)\n",
    "            \n",
    "            self.string_buffer = self.string_buffer[(found_k_starting_location+length_of_k):]\n",
    "            self.string_buffer = self.string_buffer[::-1]\n",
    "            self.string_buffer[:found_k_starting_location] + self.string_buffer[found_k_starting_location+length_of_k:]\n",
    "            self.flat = 0\n",
    "\n",
    "    def print(self, k): # 3\n",
    "        try:        \n",
    "            print(self.string_buffer[int(k)-1])\n",
    "        except:\n",
    "            pass\n",
    "    \n",
    "    def undo(self): # 4\n",
    "        try:\n",
    "            operation = self.ops_list.pop()\n",
    "            self.flag = 1\n",
    "            self.operate(operation)\n",
    "        except IndexError:\n",
    "            pass\n",
    "            \n",
    "    def operate(self, operation):\n",
    "        instruction = int(operation[0])\n",
    "        if len(operation) > 1:\n",
    "            value = operation[1]\n",
    "        if instruction == 1:\n",
    "            self.append(value)\n",
    "        elif instruction == 2:\n",
    "            self.delete(value)\n",
    "        elif instruction == 3:\n",
    "            print()\n",
    "            self.print(value)\n",
    "        elif instruction == 4:\n",
    "            self.undo()\n",
    "        else:\n",
    "            print(\"error in operate\\noperation: {}\".format(instruction))\n",
    "            exit\n",
    "            \n",
    "    def run(self, ops_list):\n",
    "        instructions = [instruction.split(\" \") for instruction in ops_list]\n",
    "        for instruction_pair in instructions:\n",
    "            self.operate(instruction_pair)"
   ]
  }
 ],
 "metadata": {
  "kernelspec": {
   "display_name": "Python 3",
   "language": "python",
   "name": "python3"
  },
  "language_info": {
   "codemirror_mode": {
    "name": "ipython",
    "version": 3
   },
   "file_extension": ".py",
   "mimetype": "text/x-python",
   "name": "python",
   "nbconvert_exporter": "python",
   "pygments_lexer": "ipython3",
   "version": "3.9.6"
  },
  "orig_nbformat": 4
 },
 "nbformat": 4,
 "nbformat_minor": 2
}
