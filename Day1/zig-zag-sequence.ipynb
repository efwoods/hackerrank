{
 "cells": [
  {
   "cell_type": "markdown",
   "metadata": {},
   "source": [
    "# [Zig Zag Sequence](https://www.hackerrank.com/challenges/one-week-preparation-kit-zig-zag-sequence/problem?isFullScreen=true&h_l=interview&playlist_slugs%5B%5D=preparation-kits&playlist_slugs%5B%5D=one-week-preparation-kit&playlist_slugs%5B%5D=one-week-day-three)"
   ]
  },
  {
   "cell_type": "code",
   "execution_count": 1,
   "metadata": {},
   "outputs": [
    {
     "ename": "IndexError",
     "evalue": "list index out of range",
     "output_type": "error",
     "traceback": [
      "\u001b[0;31m---------------------------------------------------------------------------\u001b[0m",
      "\u001b[0;31mIndexError\u001b[0m                                Traceback (most recent call last)",
      "\u001b[1;32m/Users/evanwoods/Github/hackerrank/Day1/zig-zag-sequence.ipynb Cell 2\u001b[0m line \u001b[0;36m2\n\u001b[1;32m     <a href='vscode-notebook-cell:/Users/evanwoods/Github/hackerrank/Day1/zig-zag-sequence.ipynb#W1sZmlsZQ%3D%3D?line=21'>22</a>\u001b[0m n \u001b[39m=\u001b[39m \u001b[39mint\u001b[39m(\u001b[39minput\u001b[39m())\n\u001b[1;32m     <a href='vscode-notebook-cell:/Users/evanwoods/Github/hackerrank/Day1/zig-zag-sequence.ipynb#W1sZmlsZQ%3D%3D?line=22'>23</a>\u001b[0m a \u001b[39m=\u001b[39m \u001b[39mlist\u001b[39m(\u001b[39mmap\u001b[39m(\u001b[39mint\u001b[39m, \u001b[39minput\u001b[39m()\u001b[39m.\u001b[39msplit()))\n\u001b[0;32m---> <a href='vscode-notebook-cell:/Users/evanwoods/Github/hackerrank/Day1/zig-zag-sequence.ipynb#W1sZmlsZQ%3D%3D?line=23'>24</a>\u001b[0m findZigZagSequence(a, n)\n",
      "\u001b[1;32m/Users/evanwoods/Github/hackerrank/Day1/zig-zag-sequence.ipynb Cell 2\u001b[0m line \u001b[0;36m4\n\u001b[1;32m      <a href='vscode-notebook-cell:/Users/evanwoods/Github/hackerrank/Day1/zig-zag-sequence.ipynb#W1sZmlsZQ%3D%3D?line=1'>2</a>\u001b[0m a\u001b[39m.\u001b[39msort()\n\u001b[1;32m      <a href='vscode-notebook-cell:/Users/evanwoods/Github/hackerrank/Day1/zig-zag-sequence.ipynb#W1sZmlsZQ%3D%3D?line=2'>3</a>\u001b[0m mid \u001b[39m=\u001b[39m \u001b[39mint\u001b[39m((n \u001b[39m+\u001b[39m \u001b[39m1\u001b[39m)\u001b[39m/\u001b[39m\u001b[39m2\u001b[39m)\n\u001b[0;32m----> <a href='vscode-notebook-cell:/Users/evanwoods/Github/hackerrank/Day1/zig-zag-sequence.ipynb#W1sZmlsZQ%3D%3D?line=3'>4</a>\u001b[0m a[mid], a[n\u001b[39m-\u001b[39m\u001b[39m1\u001b[39m] \u001b[39m=\u001b[39m a[n\u001b[39m-\u001b[39m\u001b[39m1\u001b[39m], a[mid]\n\u001b[1;32m      <a href='vscode-notebook-cell:/Users/evanwoods/Github/hackerrank/Day1/zig-zag-sequence.ipynb#W1sZmlsZQ%3D%3D?line=5'>6</a>\u001b[0m st \u001b[39m=\u001b[39m mid \u001b[39m+\u001b[39m \u001b[39m1\u001b[39m\n\u001b[1;32m      <a href='vscode-notebook-cell:/Users/evanwoods/Github/hackerrank/Day1/zig-zag-sequence.ipynb#W1sZmlsZQ%3D%3D?line=6'>7</a>\u001b[0m ed \u001b[39m=\u001b[39m n \u001b[39m-\u001b[39m \u001b[39m1\u001b[39m\n",
      "\u001b[0;31mIndexError\u001b[0m: list index out of range"
     ]
    }
   ],
   "source": [
    "def findZigZagSequence(a, n):\n",
    "    a.sort()\n",
    "    mid = int((n + 1)/2)\n",
    "    a[mid], a[n-1] = a[n-1], a[mid]\n",
    "\n",
    "    st = mid + 1\n",
    "    ed = n - 1\n",
    "    while(st <= ed):\n",
    "        a[st], a[ed] = a[ed], a[st]\n",
    "        st = st + 1\n",
    "        ed = ed + 1\n",
    "\n",
    "    for i in range (n):\n",
    "        if i == n-1:\n",
    "            print(a[i])\n",
    "        else:\n",
    "            print(a[i], end = ' ')\n",
    "    return\n",
    "\n",
    "test_cases = int(input())\n",
    "for cs in range (test_cases):\n",
    "    n = int(input())\n",
    "    a = list(map(int, input().split()))\n",
    "    findZigZagSequence(a, n)"
   ]
  },
  {
   "cell_type": "code",
   "execution_count": 34,
   "metadata": {},
   "outputs": [
    {
     "ename": "KeyboardInterrupt",
     "evalue": "Interrupted by user",
     "output_type": "error",
     "traceback": [
      "\u001b[0;31m---------------------------------------------------------------------------\u001b[0m",
      "\u001b[0;31mKeyboardInterrupt\u001b[0m                         Traceback (most recent call last)",
      "\u001b[1;32m/Users/evanwoods/Github/hackerrank/Day1/zig-zag-sequence.ipynb Cell 3\u001b[0m line \u001b[0;36m1\n\u001b[0;32m----> <a href='vscode-notebook-cell:/Users/evanwoods/Github/hackerrank/Day1/zig-zag-sequence.ipynb#W3sZmlsZQ%3D%3D?line=0'>1</a>\u001b[0m test_cases \u001b[39m=\u001b[39m \u001b[39mint\u001b[39m(\u001b[39minput\u001b[39;49m())\n\u001b[1;32m      <a href='vscode-notebook-cell:/Users/evanwoods/Github/hackerrank/Day1/zig-zag-sequence.ipynb#W3sZmlsZQ%3D%3D?line=1'>2</a>\u001b[0m \u001b[39mfor\u001b[39;00m cs \u001b[39min\u001b[39;00m \u001b[39mrange\u001b[39m (test_cases):\n\u001b[1;32m      <a href='vscode-notebook-cell:/Users/evanwoods/Github/hackerrank/Day1/zig-zag-sequence.ipynb#W3sZmlsZQ%3D%3D?line=2'>3</a>\u001b[0m     n \u001b[39m=\u001b[39m \u001b[39mint\u001b[39m(\u001b[39minput\u001b[39m())\n",
      "File \u001b[0;32m~/Library/Python/3.9/lib/python/site-packages/ipykernel/kernelbase.py:1202\u001b[0m, in \u001b[0;36mKernel.raw_input\u001b[0;34m(self, prompt)\u001b[0m\n\u001b[1;32m   1200\u001b[0m     msg \u001b[39m=\u001b[39m \u001b[39m\"\u001b[39m\u001b[39mraw_input was called, but this frontend does not support input requests.\u001b[39m\u001b[39m\"\u001b[39m\n\u001b[1;32m   1201\u001b[0m     \u001b[39mraise\u001b[39;00m StdinNotImplementedError(msg)\n\u001b[0;32m-> 1202\u001b[0m \u001b[39mreturn\u001b[39;00m \u001b[39mself\u001b[39;49m\u001b[39m.\u001b[39;49m_input_request(\n\u001b[1;32m   1203\u001b[0m     \u001b[39mstr\u001b[39;49m(prompt),\n\u001b[1;32m   1204\u001b[0m     \u001b[39mself\u001b[39;49m\u001b[39m.\u001b[39;49m_parent_ident[\u001b[39m\"\u001b[39;49m\u001b[39mshell\u001b[39;49m\u001b[39m\"\u001b[39;49m],\n\u001b[1;32m   1205\u001b[0m     \u001b[39mself\u001b[39;49m\u001b[39m.\u001b[39;49mget_parent(\u001b[39m\"\u001b[39;49m\u001b[39mshell\u001b[39;49m\u001b[39m\"\u001b[39;49m),\n\u001b[1;32m   1206\u001b[0m     password\u001b[39m=\u001b[39;49m\u001b[39mFalse\u001b[39;49;00m,\n\u001b[1;32m   1207\u001b[0m )\n",
      "File \u001b[0;32m~/Library/Python/3.9/lib/python/site-packages/ipykernel/kernelbase.py:1245\u001b[0m, in \u001b[0;36mKernel._input_request\u001b[0;34m(self, prompt, ident, parent, password)\u001b[0m\n\u001b[1;32m   1242\u001b[0m \u001b[39mexcept\u001b[39;00m \u001b[39mKeyboardInterrupt\u001b[39;00m:\n\u001b[1;32m   1243\u001b[0m     \u001b[39m# re-raise KeyboardInterrupt, to truncate traceback\u001b[39;00m\n\u001b[1;32m   1244\u001b[0m     msg \u001b[39m=\u001b[39m \u001b[39m\"\u001b[39m\u001b[39mInterrupted by user\u001b[39m\u001b[39m\"\u001b[39m\n\u001b[0;32m-> 1245\u001b[0m     \u001b[39mraise\u001b[39;00m \u001b[39mKeyboardInterrupt\u001b[39;00m(msg) \u001b[39mfrom\u001b[39;00m \u001b[39mNone\u001b[39;00m\n\u001b[1;32m   1246\u001b[0m \u001b[39mexcept\u001b[39;00m \u001b[39mException\u001b[39;00m:\n\u001b[1;32m   1247\u001b[0m     \u001b[39mself\u001b[39m\u001b[39m.\u001b[39mlog\u001b[39m.\u001b[39mwarning(\u001b[39m\"\u001b[39m\u001b[39mInvalid Message:\u001b[39m\u001b[39m\"\u001b[39m, exc_info\u001b[39m=\u001b[39m\u001b[39mTrue\u001b[39;00m)\n",
      "\u001b[0;31mKeyboardInterrupt\u001b[0m: Interrupted by user"
     ]
    }
   ],
   "source": [
    "test_cases = int(input())\n",
    "for cs in range (test_cases):\n",
    "    n = int(input())\n",
    "    a = list(map(int, input().split()))\n",
    "    findZigZagSequence(a, n)"
   ]
  },
  {
   "cell_type": "code",
   "execution_count": 19,
   "metadata": {},
   "outputs": [
    {
     "ename": "IndexError",
     "evalue": "list index out of range",
     "output_type": "error",
     "traceback": [
      "\u001b[0;31m---------------------------------------------------------------------------\u001b[0m",
      "\u001b[0;31mIndexError\u001b[0m                                Traceback (most recent call last)",
      "\u001b[1;32m/Users/evanwoods/Github/hackerrank/Day1/zig-zag-sequence.ipynb Cell 4\u001b[0m line \u001b[0;36m3\n\u001b[1;32m      <a href='vscode-notebook-cell:/Users/evanwoods/Github/hackerrank/Day1/zig-zag-sequence.ipynb#W2sZmlsZQ%3D%3D?line=0'>1</a>\u001b[0m a \u001b[39m=\u001b[39m [\u001b[39m2\u001b[39m,\u001b[39m3\u001b[39m,\u001b[39m5\u001b[39m,\u001b[39m1\u001b[39m,\u001b[39m4\u001b[39m]\n\u001b[1;32m      <a href='vscode-notebook-cell:/Users/evanwoods/Github/hackerrank/Day1/zig-zag-sequence.ipynb#W2sZmlsZQ%3D%3D?line=1'>2</a>\u001b[0m n \u001b[39m=\u001b[39m \u001b[39mlen\u001b[39m(a)\n\u001b[0;32m----> <a href='vscode-notebook-cell:/Users/evanwoods/Github/hackerrank/Day1/zig-zag-sequence.ipynb#W2sZmlsZQ%3D%3D?line=2'>3</a>\u001b[0m findZigZagSequence(a, n)\n",
      "\u001b[1;32m/Users/evanwoods/Github/hackerrank/Day1/zig-zag-sequence.ipynb Cell 4\u001b[0m line \u001b[0;36m9\n\u001b[1;32m      <a href='vscode-notebook-cell:/Users/evanwoods/Github/hackerrank/Day1/zig-zag-sequence.ipynb#W2sZmlsZQ%3D%3D?line=6'>7</a>\u001b[0m ed \u001b[39m=\u001b[39m n \u001b[39m-\u001b[39m \u001b[39m1\u001b[39m\n\u001b[1;32m      <a href='vscode-notebook-cell:/Users/evanwoods/Github/hackerrank/Day1/zig-zag-sequence.ipynb#W2sZmlsZQ%3D%3D?line=7'>8</a>\u001b[0m \u001b[39mwhile\u001b[39;00m(st \u001b[39m<\u001b[39m\u001b[39m=\u001b[39m ed):\n\u001b[0;32m----> <a href='vscode-notebook-cell:/Users/evanwoods/Github/hackerrank/Day1/zig-zag-sequence.ipynb#W2sZmlsZQ%3D%3D?line=8'>9</a>\u001b[0m     a[st], a[ed] \u001b[39m=\u001b[39m a[ed], a[st]\n\u001b[1;32m     <a href='vscode-notebook-cell:/Users/evanwoods/Github/hackerrank/Day1/zig-zag-sequence.ipynb#W2sZmlsZQ%3D%3D?line=9'>10</a>\u001b[0m     st \u001b[39m=\u001b[39m st \u001b[39m+\u001b[39m \u001b[39m1\u001b[39m\n\u001b[1;32m     <a href='vscode-notebook-cell:/Users/evanwoods/Github/hackerrank/Day1/zig-zag-sequence.ipynb#W2sZmlsZQ%3D%3D?line=10'>11</a>\u001b[0m     ed \u001b[39m=\u001b[39m ed \u001b[39m+\u001b[39m \u001b[39m1\u001b[39m\n",
      "\u001b[0;31mIndexError\u001b[0m: list index out of range"
     ]
    }
   ],
   "source": [
    "a = [2,3,5,1,4]\n",
    "n = len(a)\n",
    "findZigZagSequence(a, n)"
   ]
  },
  {
   "cell_type": "code",
   "execution_count": 79,
   "metadata": {},
   "outputs": [],
   "source": [
    "a = [2,3,5,1,4]\n",
    "n = len(a)"
   ]
  },
  {
   "cell_type": "code",
   "execution_count": 80,
   "metadata": {},
   "outputs": [],
   "source": [
    "\n",
    "a.sort()\n",
    "mid = int((n + 1)/2)\n"
   ]
  },
  {
   "cell_type": "code",
   "execution_count": 81,
   "metadata": {},
   "outputs": [
    {
     "data": {
      "text/plain": [
       "[1, 2, 3, 4, 5]"
      ]
     },
     "execution_count": 81,
     "metadata": {},
     "output_type": "execute_result"
    }
   ],
   "source": [
    "a"
   ]
  },
  {
   "cell_type": "code",
   "execution_count": 82,
   "metadata": {},
   "outputs": [
    {
     "data": {
      "text/plain": [
       "3"
      ]
     },
     "execution_count": 82,
     "metadata": {},
     "output_type": "execute_result"
    }
   ],
   "source": [
    "mid"
   ]
  },
  {
   "cell_type": "code",
   "execution_count": 83,
   "metadata": {},
   "outputs": [],
   "source": [
    "\n",
    "a[mid], a[n-1] = a[n-1], a[mid]\n"
   ]
  },
  {
   "cell_type": "code",
   "execution_count": 84,
   "metadata": {},
   "outputs": [
    {
     "data": {
      "text/plain": [
       "[1, 2, 3, 5, 4]"
      ]
     },
     "execution_count": 84,
     "metadata": {},
     "output_type": "execute_result"
    }
   ],
   "source": [
    "a"
   ]
  },
  {
   "cell_type": "code",
   "execution_count": 88,
   "metadata": {},
   "outputs": [],
   "source": [
    "# First Change; og: st = mid + 1; Second change og: ed = n - 1\n",
    "st = 1 # change\n",
    "ed = n - 1 # 4\n"
   ]
  },
  {
   "cell_type": "code",
   "execution_count": 89,
   "metadata": {},
   "outputs": [
    {
     "data": {
      "text/plain": [
       "1"
      ]
     },
     "execution_count": 89,
     "metadata": {},
     "output_type": "execute_result"
    }
   ],
   "source": [
    "st"
   ]
  },
  {
   "cell_type": "code",
   "execution_count": 90,
   "metadata": {},
   "outputs": [
    {
     "data": {
      "text/plain": [
       "4"
      ]
     },
     "execution_count": 90,
     "metadata": {},
     "output_type": "execute_result"
    }
   ],
   "source": [
    "ed"
   ]
  },
  {
   "cell_type": "code",
   "execution_count": 91,
   "metadata": {},
   "outputs": [
    {
     "name": "stdout",
     "output_type": "stream",
     "text": [
      "1 4 5 3 2\n"
     ]
    }
   ],
   "source": [
    "# Second Change: og: st = st + 1\n",
    "while(st <= ed):\n",
    "    try:\n",
    "        a[st], a[ed] = a[ed], a[st]\n",
    "        st = st + 1\n",
    "        ed = ed - 1 # change\n",
    "    except:\n",
    "        print(\"except\")\n",
    "        print(\"a:{}\".format(a))\n",
    "        print(\"st:{}\".format(st))\n",
    "        print(\"ed:{}\".format(ed))\n",
    "        print(\"a[st]:{}\".format(a[st]))\n",
    "        print(\"a[ed]:{}\".format(a[ed]))\n",
    "        \n",
    "\n",
    "for i in range (n):\n",
    "    if i == n-1:\n",
    "        print(a[i])\n",
    "    else:\n",
    "        print(a[i], end = ' ')"
   ]
  },
  {
   "cell_type": "code",
   "execution_count": null,
   "metadata": {},
   "outputs": [],
   "source": [
    "12345\n",
    "12354\n",
    "---\n",
    "14352\n",
    "14532\n",
    "\n",
    "12534\n",
    "14532\n"
   ]
  },
  {
   "cell_type": "code",
   "execution_count": null,
   "metadata": {},
   "outputs": [],
   "source": [
    "n = 5\n",
    "st = st + 1\n",
    "ed = ed - 1\n",
    "st = 1\n",
    "ed = 4;\n",
    "st = 2\n",
    "ed = 3;\n",
    "\n",
    "\n",
    "# compare st < n"
   ]
  }
 ],
 "metadata": {
  "kernelspec": {
   "display_name": "Python 3",
   "language": "python",
   "name": "python3"
  },
  "language_info": {
   "codemirror_mode": {
    "name": "ipython",
    "version": 3
   },
   "file_extension": ".py",
   "mimetype": "text/x-python",
   "name": "python",
   "nbconvert_exporter": "python",
   "pygments_lexer": "ipython3",
   "version": "3.9.6"
  },
  "orig_nbformat": 4
 },
 "nbformat": 4,
 "nbformat_minor": 2
}
