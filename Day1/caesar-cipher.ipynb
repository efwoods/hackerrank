{
 "cells": [
  {
   "cell_type": "markdown",
   "metadata": {},
   "source": [
    "# [Caesar Cipher](https://www.hackerrank.com/challenges/one-week-preparation-kit-caesar-cipher-1/problem?isFullScreen=true&h_l=interview&playlist_slugs%5B%5D=preparation-kits&playlist_slugs%5B%5D=one-week-preparation-kit&playlist_slugs%5B%5D=one-week-day-three)"
   ]
  },
  {
   "cell_type": "code",
   "execution_count": 12,
   "metadata": {},
   "outputs": [],
   "source": [
    "#!/bin/python3\n",
    "\n",
    "import math\n",
    "import os\n",
    "import random\n",
    "import re\n",
    "import sys\n",
    "\n",
    "def rotate(original_string, rotation_amount):\n",
    "    rotated_alphabet = original_string[rotation_amount%len(original_string):] + original_string[:rotation_amount%len(original_string)]\n",
    "    return rotated_alphabet\n",
    "\n",
    "#\n",
    "# Complete the 'caesarCipher' function below.\n",
    "#\n",
    "# The function is expected to return a STRING.\n",
    "# The function accepts following parameters:\n",
    "#  1. STRING s\n",
    "#  2. INTEGER k\n",
    "#\n",
    "\n",
    "def caesarCipher(s, k):\n",
    "    alphabet = ['a','b','c','d','e','f','g','h','i','j','k','l','m','n','o','p','q','r','s','t','u','v','w','x','y','z']\n",
    "    rotated_alphabet = rotate(alphabet, k)\n",
    "    rotated_alphabet_lower_case = {}\n",
    "    rotated_alphabet_upper_case = {}\n",
    "    for i in range(len(rotated_alphabet)):\n",
    "        rotated_alphabet_lower_case[alphabet[i]] = rotated_alphabet[i]\n",
    "        rotated_alphabet_upper_case[alphabet[i].upper()] = rotated_alphabet[i].upper()\n",
    "        \n",
    "    encrypted_s = \"\"\n",
    "    for char in s:\n",
    "        if char.isalpha():\n",
    "            if char.isupper():\n",
    "                encrypted_s += rotated_alphabet_upper_case[char]\n",
    "            else:\n",
    "                encrypted_s += rotated_alphabet_lower_case[char]\n",
    "        else:\n",
    "            encrypted_s += char\n",
    "    return encrypted_s"
   ]
  }
 ],
 "metadata": {
  "kernelspec": {
   "display_name": "Python 3",
   "language": "python",
   "name": "python3"
  },
  "language_info": {
   "codemirror_mode": {
    "name": "ipython",
    "version": 3
   },
   "file_extension": ".py",
   "mimetype": "text/x-python",
   "name": "python",
   "nbconvert_exporter": "python",
   "pygments_lexer": "ipython3",
   "version": "3.9.6"
  },
  "orig_nbformat": 4
 },
 "nbformat": 4,
 "nbformat_minor": 2
}
